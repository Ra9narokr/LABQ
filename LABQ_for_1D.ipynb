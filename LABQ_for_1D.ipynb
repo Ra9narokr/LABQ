{
 "cells": [
  {
   "cell_type": "code",
   "id": "initial_id",
   "metadata": {
    "collapsed": true,
    "ExecuteTime": {
     "end_time": "2025-06-23T05:58:30.490573Z",
     "start_time": "2025-06-23T05:58:29.860806Z"
    }
   },
   "source": [
    "from Algorithm import Gaussian_Process\n",
    "from Algorithm import LA_Bayessian_Quadrature\n",
    "from Algorithm import Mesh\n",
    "from Algorithm import Kernels\n",
    "\n",
    "\n",
    "import matplotlib.pyplot as plt\n",
    "import numpy as np\n",
    "from scipy.stats import norm\n",
    "from scipy.integrate import quad\n",
    "\n",
    "plt.rcParams['figure.figsize'] = [12, 6]\n"
   ],
   "outputs": [],
   "execution_count": 1
  },
  {
   "metadata": {
    "ExecuteTime": {
     "end_time": "2025-06-23T05:58:31.754354Z",
     "start_time": "2025-06-23T05:58:30.578040Z"
    }
   },
   "cell_type": "code",
   "source": [
    "class Option:\n",
    "    def __init__(self, opt_type, underlying, strike, maturity,position, multiplier=1.0):\n",
    "        self.opt_type = opt_type        # str: 'call' or 'put' 看涨/看跌\n",
    "        self.underlying = underlying    # int: option index 期权索引\n",
    "        self.strike = strike            # float: strike price 期权执行价\n",
    "        self.maturity = maturity        # float: expiry date(yr) 期权到期时间（年）\n",
    "        self.position = position        # int: + long, – short 仓位（+ 多，- 空）\n",
    "        self.multiplier = multiplier    # float: contract multiplier 合约乘数\n",
    "\n",
    "    # Black‑Scholes analytic delta (for demonstration / benchmark)\n",
    "    def analytic_delta(self, S0, vol, r):\n",
    "        T = self.maturity\n",
    "        d1 = (np.log(S0 / self.strike) + (r + 0.5 * vol ** 2) * T) / (vol * np.sqrt(T))\n",
    "        if self.opt_type.lower() == \"call\":\n",
    "            return norm.cdf(d1)\n",
    "        else:  # put\n",
    "            return norm.cdf(d1) - 1.0\n",
    "\n",
    "    # Integrand for MC/BQ given path value ST_i\n",
    "    def delta_integrand(self, ST_i, S0_i, discount):\n",
    "        if self.opt_type.lower() == \"call\":\n",
    "            g = (ST_i > self.strike) * (ST_i / S0_i)\n",
    "        else:  # put\n",
    "            g = (-1) * (ST_i < self.strike) * (ST_i / S0_i)\n",
    "        return discount * g\n",
    "\n",
    "\n",
    "# ---------- 2. Portfolio allowing heterogeneous maturities ----------\n",
    "class OptionPortfolio:\n",
    "    def __init__(self, options):\n",
    "        self.options = options\n",
    "\n",
    "    def analytic_delta(self, S0_vec, vol_vec, r):\n",
    "        \"\"\"Exact BS portfolio delta via linearity (handles different T).\"\"\"\n",
    "        total = 0.0\n",
    "        for opt in self.options:\n",
    "            S0_i = S0_vec[opt.underlying]\n",
    "            vol_i = vol_vec[opt.underlying]\n",
    "            delta_i = opt.analytic_delta(S0_i, vol_i, r)\n",
    "            total += opt.position * opt.multiplier * delta_i\n",
    "        return total\n",
    "\n",
    "\n",
    "# ---------- 3. Path‑wise portfolio Δ given one Gaussian vector ----------\n",
    "def pathwise_portfolio_delta(Z, *, S0_vec, vol_vec, corr, r, portfolio):\n",
    "\n",
    "    # Correlate the normals\n",
    "    L = np.linalg.cholesky(corr)\n",
    "    Z_corr = L @ Z\n",
    "\n",
    "    total = 0.0\n",
    "    for opt in portfolio.options:\n",
    "        idx = opt.underlying\n",
    "        S0_i = S0_vec[idx]\n",
    "        vol_i = vol_vec[idx]\n",
    "        T_i   = opt.maturity\n",
    "\n",
    "        # Brownian property: same Z drives all maturities\n",
    "        ST_i = S0_i * np.exp((r - 0.5 * vol_i ** 2) * T_i +\n",
    "                             vol_i * np.sqrt(T_i) * Z_corr[idx])\n",
    "\n",
    "        discount = np.exp(-r * T_i)\n",
    "        g = opt.delta_integrand(ST_i, S0_i, discount)\n",
    "        total += opt.position * opt.multiplier * g\n",
    "\n",
    "    return total\n",
    "\n",
    "\n",
    "# ---------- 4. Demo with heterogeneous maturities ----------\n",
    "# Market data\n",
    "S = np.array([98.0])\n",
    "vol = np.array([0.25])\n",
    "corr = np.eye(len(S))\n",
    "r = 0.03\n",
    "\n",
    "# Two‑option portfolio\n",
    "opt1 = Option('call', 0, 95, 1.0,  15, 1)   # 6‑month call, long 10\n",
    "portfolio = OptionPortfolio([opt1])\n",
    "\n",
    "# Analytic portfolio Δ (exact BS, linear combination)\n",
    "price_min = 50\n",
    "price_max = 150\n",
    "\n",
    "def func(S):\n",
    "    if np.isscalar(S):\n",
    "        S = [S]\n",
    "    S_initial = [ini(i) for i in S]\n",
    "    return portfolio.analytic_delta(S_initial, vol, r)\n",
    "\n",
    "# Monte Carlo / placeholder for adaptive BQ\n",
    "rng = np.random.default_rng(0)\n",
    "n_samples = 150_000\n",
    "Z_samples = rng.standard_normal((n_samples, len(S)))\n",
    "vals = np.apply_along_axis(pathwise_portfolio_delta, 1, Z_samples,\n",
    "                           S0_vec=S, vol_vec=vol, corr=corr, r=r, portfolio=portfolio)\n",
    "delta_mc  = vals.mean()\n",
    "stderr_mc = vals.std(ddof=1) / np.sqrt(n_samples)\n",
    "\n",
    "def oti(price):\n",
    "    return (price-price_min)/(price_max - price_min)\n",
    "\n",
    "def ini(price):\n",
    "    return price_min + price * (price_max - price_min)\n",
    "\n",
    "\n",
    "print(f\"Analytic portfolio Δ : {func([oti(98.0),oti(98.0)]):,.4f}\")\n",
    "print(f\"Monte Carlo estimate : {delta_mc:,.4f} ± {stderr_mc:.4f} (1σ)\")"
   ],
   "id": "df7fe8f974b983b2",
   "outputs": [
    {
     "name": "stdout",
     "output_type": "stream",
     "text": [
      "Analytic portfolio Δ : 9.6611\n",
      "Monte Carlo estimate : 9.6605 ± 0.0234 (1σ)\n"
     ]
    }
   ],
   "execution_count": 2
  },
  {
   "metadata": {
    "ExecuteTime": {
     "end_time": "2025-06-23T05:59:02.755022Z",
     "start_time": "2025-06-23T05:59:02.708827Z"
    }
   },
   "cell_type": "code",
   "source": [
    "a = np.linspace(50, 150, 101)\n",
    "b = np.zeros_like(a)\n",
    "for i in range(101):\n",
    "    b[i] = func(oti(a[i]))\n",
    "\n",
    "plt.plot(a,b)\n",
    "plt.show()"
   ],
   "id": "17195897083a534f",
   "outputs": [
    {
     "name": "stdout",
     "output_type": "stream",
     "text": [
      "[ 50.  51.  52.  53.  54.  55.  56.  57.  58.  59.  60.  61.  62.  63.\n",
      "  64.  65.  66.  67.  68.  69.  70.  71.  72.  73.  74.  75.  76.  77.\n",
      "  78.  79.  80.  81.  82.  83.  84.  85.  86.  87.  88.  89.  90.  91.\n",
      "  92.  93.  94.  95.  96.  97.  98.  99. 100. 101. 102. 103. 104. 105.\n",
      " 106. 107. 108. 109. 110. 111. 112. 113. 114. 115. 116. 117. 118. 119.\n",
      " 120. 121. 122. 123. 124. 125. 126. 127. 128. 129. 130. 131. 132. 133.\n",
      " 134. 135. 136. 137. 138. 139. 140. 141. 142. 143. 144. 145. 146. 147.\n",
      " 148. 149. 150.]\n"
     ]
    },
    {
     "data": {
      "text/plain": [
       "<Figure size 1200x600 with 1 Axes>"
      ],
      "image/png": "[encoded data removed]"
     },
     "metadata": {},
     "output_type": "display_data"
    }
   ],
   "execution_count": 6
  },
  {
   "metadata": {
    "ExecuteTime": {
     "end_time": "2025-06-23T06:01:05.445640Z",
     "start_time": "2025-06-23T06:01:05.442501Z"
    }
   },
   "cell_type": "code",
   "source": [
    "X = np.around(np.array(np.meshgrid(np.linspace(0,1,11), indexing='ij')).reshape(1,-1).T,1)\n",
    "print(X)\n",
    "Y = []\n",
    "for i in range(11):\n",
    "    Y.append(func(X[i]))\n",
    "print(Y)\n",
    "beta = np.array([-0.33, -1, -0.9, -1, -1.2, -2, -2.6, -2, -1.2, -1, -1.1, -1])"
   ],
   "id": "92a140897aa46412",
   "outputs": [
    {
     "name": "stdout",
     "output_type": "stream",
     "text": [
      "[[0. ]\n",
      " [0.1]\n",
      " [0.2]\n",
      " [0.3]\n",
      " [0.4]\n",
      " [0.5]\n",
      " [0.6]\n",
      " [0.7]\n",
      " [0.8]\n",
      " [0.9]\n",
      " [1. ]]\n",
      "[np.float64(0.1515792835577107), np.float64(0.8334838771494726), np.float64(2.4660268024005703), np.float64(4.936492766068035), np.float64(7.671907196332887), np.float64(10.105608186827828), np.float64(11.95695111620472), np.float64(13.213385306873368), np.float64(13.997173416437), np.float64(14.456365219701512), np.float64(14.713032698263564)]\n"
     ]
    }
   ],
   "execution_count": 15
  },
  {
   "metadata": {
    "ExecuteTime": {
     "end_time": "2025-06-23T06:01:05.824609Z",
     "start_time": "2025-06-23T06:01:05.821263Z"
    }
   },
   "cell_type": "code",
   "source": "GP = Gaussian_Process.GaussianProcess(Kernels.K_lin_mat2_10,beta,X,Y) # Define Gaussian process",
   "id": "7fdc3eca239fa843",
   "outputs": [],
   "execution_count": 16
  },
  {
   "metadata": {
    "ExecuteTime": {
     "end_time": "2025-06-23T06:03:05.449277Z",
     "start_time": "2025-06-23T06:01:06.466293Z"
    }
   },
   "cell_type": "code",
   "source": "GPs_mat1,int_params_mat1 = LA_Bayessian_Quadrature.ABC(func,GP,Mesh.get_points,30,[30,1])\n",
   "id": "59a26254dbfe249c",
   "outputs": [
    {
     "name": "stdout",
     "output_type": "stream",
     "text": [
      "Step:  1  /  31\n",
      "Step:  2  /  31\n",
      "Step:  3  /  31\n",
      "Step:  4  /  31\n",
      "Step:  5  /  31\n",
      "Step:  6  /  31\n",
      "Step:  7  /  31\n",
      "Step:  8  /  31\n",
      "Step:  9  /  31\n",
      "Step:  10  /  31\n",
      "Step:  11  /  31\n",
      "Step:  12  /  31\n",
      "Step:  13  /  31\n",
      "Step:  14  /  31\n",
      "Step:  15  /  31\n",
      "Step:  16  /  31\n",
      "Step:  17  /  31\n",
      "Step:  18  /  31\n",
      "Step:  19  /  31\n",
      "Step:  20  /  31\n",
      "Step:  21  /  31\n",
      "Step:  22  /  31\n",
      "Step:  23  /  31\n",
      "Step:  24  /  31\n",
      "Step:  25  /  31\n",
      "Step:  26  /  31\n",
      "Step:  27  /  31\n",
      "Step:  28  /  31\n",
      "Step:  29  /  31\n",
      "Step:  30  /  31\n",
      "Step:  31  /  31\n"
     ]
    }
   ],
   "execution_count": 17
  },
  {
   "metadata": {
    "ExecuteTime": {
     "end_time": "2025-06-23T06:03:08.834498Z",
     "start_time": "2025-06-23T06:03:08.829835Z"
    }
   },
   "cell_type": "code",
   "source": [
    "final_GP = GPs_mat1[-1]\n",
    "def bs_delta(S, K=95, T=1.0, sigma=0.25, r=0.03, opt_type='call'):\n",
    "    if T <= 0 or sigma <= 0:\n",
    "        return 0.0\n",
    "    d1 = (np.log(S / K) + (r + 0.5 * sigma**2) * T) / (sigma * np.sqrt(T))\n",
    "    if opt_type == 'call':\n",
    "        return norm.cdf(d1)\n",
    "    else:\n",
    "        return norm.cdf(d1) - 1.0\n",
    "\n",
    "def scaled_bs_delta(x):\n",
    "    S = 50 + 100 * x\n",
    "    return 15 * bs_delta(S)\n",
    "\n",
    "\n",
    "I_true, err = quad(scaled_bs_delta, 0, 1)\n",
    "print(\"True value =\", I_true)\n",
    "print(\"Calculated value =\", int_params_mat1[-1])"
   ],
   "id": "59c2550179bd8cc0",
   "outputs": [
    {
     "name": "stdout",
     "output_type": "stream",
     "text": [
      "True value = 8.7080319904192\n",
      "Calculated value = [8.70812413e+00 5.17102698e-08]\n"
     ]
    }
   ],
   "execution_count": 18
  },
  {
   "metadata": {},
   "cell_type": "code",
   "outputs": [],
   "execution_count": null,
   "source": "",
   "id": "fde926f3ffc973c1"
  }
 ],
 "metadata": {
  "kernelspec": {
   "display_name": "Python 3",
   "language": "python",
   "name": "python3"
  },
  "language_info": {
   "codemirror_mode": {
    "name": "ipython",
    "version": 2
   },
   "file_extension": ".py",
   "mimetype": "text/x-python",
   "name": "python",
   "nbconvert_exporter": "python",
   "pygments_lexer": "ipython2",
   "version": "2.7.6"
  }
 },
 "nbformat": 4,
 "nbformat_minor": 5
}
