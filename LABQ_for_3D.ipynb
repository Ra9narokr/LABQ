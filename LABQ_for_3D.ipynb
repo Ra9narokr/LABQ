{
 "cells": [
  {
   "metadata": {
    "ExecuteTime": {
     "end_time": "2025-06-24T01:13:19.522039Z",
     "start_time": "2025-06-24T01:13:18.883810Z"
    }
   },
   "cell_type": "code",
   "source": [
    "from Algorithm import Gaussian_Process\n",
    "from Algorithm import LA_Bayessian_Quadrature\n",
    "from Algorithm import Mesh\n",
    "from Algorithm import Kernels\n",
    "import Target_Function as tf\n",
    "\n",
    "import numpy as np\n",
    "from scipy.stats import norm\n",
    "from scipy.integrate import quad\n"
   ],
   "id": "b6a444ae4fa6feb3",
   "outputs": [],
   "execution_count": 1
  },
  {
   "metadata": {
    "ExecuteTime": {
     "end_time": "2025-06-24T01:13:19.595946Z",
     "start_time": "2025-06-24T01:13:19.593910Z"
    }
   },
   "cell_type": "code",
   "source": [
    "opt1 = tf.Option('call', 0, 95, .25, 1.0,  15, 1)\n",
    "opt2 = tf.Option('put',  1, 110, .2,  0.5,  5, 1)\n",
    "opt3 = tf.Option('put',  2, 100, .22, 1.5,  10, 1)\n",
    "opt4 = tf.Option('put',  3, 100, .22, 1.5,  10, 1)\n",
    "options = [opt1, opt2, opt3, opt4]\n",
    "\n",
    "\n",
    "portfolio = tf.OptionPortfolio(.03, 50, 150,options[:3])\n",
    "D = len(portfolio.options)\n",
    "func = portfolio.target_function\n"
   ],
   "id": "fda3055e5ff75fee",
   "outputs": [],
   "execution_count": 2
  },
  {
   "metadata": {
    "ExecuteTime": {
     "end_time": "2025-06-24T01:13:19.612338Z",
     "start_time": "2025-06-24T01:13:19.601891Z"
    }
   },
   "cell_type": "code",
   "source": [
    "xx = np.linspace(0., 1., 5)\n",
    "grids = np.meshgrid(*([xx] * D),)\n",
    "X = np.vstack([g.ravel() for g in grids]).T\n",
    "Y = np.array([func(x) for x in X])\n"
   ],
   "id": "54aada160889105c",
   "outputs": [],
   "execution_count": 3
  },
  {
   "metadata": {
    "ExecuteTime": {
     "end_time": "2025-06-24T01:13:19.620139Z",
     "start_time": "2025-06-24T01:13:19.618677Z"
    }
   },
   "cell_type": "code",
   "source": [
    "beta = np.concatenate([\n",
    "    np.array([-0.5]),\n",
    "    np.random.uniform(-2, 0, size=11 * D)\n",
    "])"
   ],
   "id": "33c5e6c3270bc201",
   "outputs": [],
   "execution_count": 4
  },
  {
   "metadata": {
    "ExecuteTime": {
     "end_time": "2025-06-24T01:13:19.638491Z",
     "start_time": "2025-06-24T01:13:19.628703Z"
    }
   },
   "cell_type": "code",
   "source": [
    "mesh1 = Mesh.get_points_Sobol(X,_)\n",
    "\n",
    "GP = Gaussian_Process.GaussianProcess(Kernels.K_lin_mat2_10,beta,X,Y,mesh = mesh1)\n"
   ],
   "id": "4bf2d6b970fdaa05",
   "outputs": [],
   "execution_count": 5
  },
  {
   "metadata": {
    "ExecuteTime": {
     "end_time": "2025-06-24T01:28:50.303583Z",
     "start_time": "2025-06-24T01:13:19.646025Z"
    }
   },
   "cell_type": "code",
   "source": [
    "GPs, int_params,_ ,_ = LA_Bayessian_Quadrature.ABC_D(\n",
    "    func,\n",
    "    GP,\n",
    "    Mesh.get_points_Sobol,\n",
    "    n=30,\n",
    "    lambd=[30, 1],\n",
    "    point_mesh = mesh1\n",
    ")"
   ],
   "id": "2de3e5e88a33a92c",
   "outputs": [
    {
     "name": "stdout",
     "output_type": "stream",
     "text": [
      "Dimensions: 3 , Sobol: 7 , Steps: 31\n",
      "Step 1 of 31, Time: 26.15, Result: [3.97501069e-02 3.86685134e-05]\n",
      "Step 2 of 31, Time: 26.43, Result: [3.92381350e-02 3.68265504e-05]\n",
      "Step 3 of 31, Time: 22.67, Result: [3.96364666e-02 3.50492166e-05]\n",
      "Step 4 of 31, Time: 22.83, Result: [4.03286072e-02 3.34600299e-05]\n",
      "Step 5 of 31, Time: 24.40, Result: [4.10436086e-02 3.19102277e-05]\n",
      "Step 6 of 31, Time: 24.04, Result: [4.04944333e-02 3.03440905e-05]\n",
      "Step 7 of 31, Time: 36.02, Result: [4.11903580e-02 2.88932277e-05]\n",
      "Step 8 of 31, Time: 23.77, Result: [4.12240657e-02 2.73784418e-05]\n",
      "Step 9 of 31, Time: 37.39, Result: [4.06168314e-02 2.58826076e-05]\n",
      "Step 10 of 31, Time: 25.26, Result: [4.03749372e-02 2.44733882e-05]\n",
      "Step 11 of 31, Time: 36.88, Result: [4.03102459e-02 2.30101292e-05]\n",
      "Step 12 of 31, Time: 26.20, Result: [4.13829744e-02 2.20118654e-05]\n",
      "Step 13 of 31, Time: 30.85, Result: [4.16673396e-02 2.07273897e-05]\n",
      "Step 14 of 31, Time: 36.18, Result: [4.14451525e-02 1.96163422e-05]\n",
      "Step 15 of 31, Time: 25.71, Result: [4.17509091e-02 1.84959411e-05]\n",
      "Step 16 of 31, Time: 34.14, Result: [4.16732853e-02 1.74784216e-05]\n",
      "Step 17 of 31, Time: 26.21, Result: [4.11307680e-02 1.66967622e-05]\n",
      "Step 18 of 31, Time: 28.61, Result: [4.17654417e-02 1.59111275e-05]\n",
      "Step 19 of 31, Time: 31.70, Result: [4.18983811e-02 1.51703396e-05]\n",
      "Step 20 of 31, Time: 27.31, Result: [4.18049535e-02 1.43771737e-05]\n",
      "Step 21 of 31, Time: 38.75, Result: [4.15036384e-02 1.36211561e-05]\n",
      "Step 22 of 31, Time: 32.76, Result: [4.17919880e-02 1.28907821e-05]\n",
      "Step 23 of 31, Time: 41.66, Result: [4.21079306e-02 1.20701770e-05]\n",
      "Step 24 of 31, Time: 31.63, Result: [4.19190449e-02 1.15585214e-05]\n",
      "Step 25 of 31, Time: 33.20, Result: [4.21728987e-02 1.10073688e-05]\n",
      "Step 26 of 31, Time: 28.95, Result: [4.20220379e-02 1.04790832e-05]\n",
      "Step 27 of 31, Time: 25.53, Result: [4.20275127e-02 9.99711160e-06]\n",
      "Step 28 of 31, Time: 33.60, Result: [4.23794380e-02 9.57585191e-06]\n",
      "Step 29 of 31, Time: 28.29, Result: [4.23012401e-02 9.15764926e-06]\n",
      "Step 30 of 31, Time: 36.07, Result: [4.23132487e-02 8.73797025e-06]\n",
      "Step 31 of 31, Time: 25.85, Result: [4.23441420e-02 8.33096148e-06]\n",
      "3Dimensions Total_Time: 904.80\n",
      "Uncertainty Rate: 6.82%\n"
     ]
    }
   ],
   "execution_count": 6
  },
  {
   "metadata": {
    "ExecuteTime": {
     "end_time": "2025-06-24T01:28:50.340108Z",
     "start_time": "2025-06-24T01:28:50.338735Z"
    }
   },
   "cell_type": "code",
   "source": "",
   "id": "3734a0c4cce0ea05",
   "outputs": [],
   "execution_count": null
  }
 ],
 "metadata": {
  "kernelspec": {
   "display_name": "Python 3",
   "language": "python",
   "name": "python3"
  },
  "language_info": {
   "codemirror_mode": {
    "name": "ipython",
    "version": 2
   },
   "file_extension": ".py",
   "mimetype": "text/x-python",
   "name": "python",
   "nbconvert_exporter": "python",
   "pygments_lexer": "ipython2",
   "version": "2.7.6"
  }
 },
 "nbformat": 4,
 "nbformat_minor": 5
}
