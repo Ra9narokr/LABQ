{
 "cells": [
  {
   "metadata": {},
   "cell_type": "code",
   "source": [
    "from Algorithm import Gaussian_Process\n",
    "from Algorithm import LA_Bayessian_Quadrature\n",
    "from Algorithm import Mesh\n",
    "from Algorithm import Kernels\n",
    "import Target_Function as tf\n",
    "\n",
    "import numpy as np\n",
    "import matplotlib.pyplot as plt"
   ],
   "id": "b6a444ae4fa6feb3",
   "outputs": [],
   "execution_count": null
  },
  {
   "metadata": {},
   "cell_type": "code",
   "source": [
    "opt_spy  = tf.Option('call', 0, 600, 0.1672, 0.15,  1, 100)   # SPDR S&P 500 ETF  (广义市场基准)\n",
    "opt_aapl = tf.Option('call', 1, 200, 0.2613, 0.49,  1, 100)   # Apple\n",
    "opt_tsla = tf.Option('call', 2, 350, 0.6398, 0.57,  1, 100)   # Tesla\n",
    "opt_nvda = tf.Option('call', 3, 145, 0.3482, 0.24,  1, 100)   # NVIDIA\n",
    "opt_amzn = tf.Option('call', 4, 210, 0.2902, 0.24,  1, 100)   # Amazon\n",
    "opt_meta = tf.Option('call', 5, 700, 0.2924, 0.24,  1, 100)   # Meta\n",
    "opt_msft = tf.Option('call', 6, 485, 0.1817, 0.15,  1, 100)   # Microsoft\n",
    "opt_goog = tf.Option('call', 7, 165, 0.3226, 0.32,  1, 100)   # Google\n",
    "opt_amd  = tf.Option('call', 8, 130, 0.4065, 0.32,  1, 100)   # AMD\n",
    "opt_mstr = tf.Option('call', 9, 370, 0.5098, 0.49,  1, 100)   # MicroStrategy\n",
    "\n",
    "def LABQ(D):\n",
    "    options = [opt_spy, opt_aapl, opt_tsla, opt_nvda, opt_amzn,\n",
    "               opt_meta, opt_msft, opt_goog, opt_amd, opt_mstr]\n",
    "    portfolio = tf.OptionPortfolio(\n",
    "        0.04,50,900,\n",
    "        options[:D]\n",
    "    )\n",
    "    D = len(portfolio.options)\n",
    "    func = portfolio.target_function\n",
    "    xx = np.linspace(0., 1., 3)\n",
    "    grids = np.meshgrid(*([xx] * D),)\n",
    "    X = np.vstack([g.ravel() for g in grids]).T\n",
    "    Y = np.array([func(x) for x in X])\n",
    "    beta = np.concatenate([\n",
    "    np.array([-0.5]),\n",
    "    np.random.uniform(-2, 0, size=11 * D)\n",
    "    ])\n",
    "    mesh1 = Mesh.get_points_Sobol(X,_)\n",
    "    GP = Gaussian_Process.GaussianProcess(Kernels.K_lin_mat2_10,beta,X,Y,mesh = mesh1)\n",
    "    sobol = [8,7,6,5,4,3,3,2,2]\n",
    "    n = [30,30,30,30,30,5,3,2,1]\n",
    "    a, b, times, uncertainties = LA_Bayessian_Quadrature.ABC_D(\n",
    "        func,\n",
    "        GP,\n",
    "        Mesh.get_points_Sobol,\n",
    "        n = n[D-2],\n",
    "        lambd = [30, 1],\n",
    "        point_mesh = mesh1,\n",
    "        sobol = sobol[D-2] #2^sobol points\n",
    "    )\n",
    "    \"\"\"\n",
    "    note of the result:\n",
    "    Dimensions --> numbers of options\n",
    "    Sobol --> 2^sobol points every step\n",
    "    Steps --> how many cycle to run\n",
    "    Time --> time of each step\n",
    "    Result[mean, var] -->\n",
    "    To standardize the values of each point for calculation purposes.\n",
    "    The mean IS NOT final delta, it need to *Target_Function.portfolio.total\n",
    "\n",
    "    Total_time(at the end of each dimension test) --> total time of each dimension test\n",
    "    Uncertainty Rate --> sqrt(var) / mean * 100%\n",
    "\n",
    "    There's Two test result below, the second one runs for 10hrs, but 7D can't even go 1Step, but 6D is worked out.\n",
    "    Device: Macbook Pro with M3 Pro\n",
    "    \"\"\"\n",
    "    return times,uncertainties"
   ],
   "id": "fda3055e5ff75fee",
   "outputs": [],
   "execution_count": null
  },
  {
   "metadata": {},
   "cell_type": "code",
   "source": [
    "def LABQ_alter(D):\n",
    "    options = [opt_spy, opt_aapl, opt_tsla, opt_nvda, opt_amzn,\n",
    "               opt_meta, opt_msft, opt_goog, opt_amd, opt_mstr]\n",
    "    portfolio = tf.OptionPortfolio(\n",
    "        0.04,50,900,\n",
    "        options[:D]\n",
    "    )\n",
    "    D = len(portfolio.options)\n",
    "    func = portfolio.target_function\n",
    "    aaa = np.array([np.zeros(D)])\n",
    "    X = Mesh.get_points_Sobol(aaa,0,D)\n",
    "    Y = np.array([func(x) for x in X])\n",
    "    beta = np.concatenate([\n",
    "    np.array([-0.5]),\n",
    "    np.random.uniform(-2, 0, size=11 * D)\n",
    "    ])\n",
    "    mesh1 = Mesh.get_points_Sobol(X,_)\n",
    "    GP = Gaussian_Process.GaussianProcess(Kernels.K_lin_mat2_10,beta,X,Y,mesh = mesh1)\n",
    "    sobol = [8,7,6,5,4,3,3]\n",
    "    n = [30,30,30,30,30,20,10]\n",
    "    a, b, times, uncertainties = LA_Bayessian_Quadrature.ABC_D(\n",
    "        func,\n",
    "        GP,\n",
    "        Mesh.get_points_Sobol,\n",
    "        n = n[D-2],\n",
    "        lambd = [30, 1],\n",
    "        point_mesh = mesh1,\n",
    "        sobol = sobol[D-2] #2^sobol points\n",
    "    )\n",
    "    return times,uncertainties"
   ],
   "id": "1c66edd28b5d02e1",
   "outputs": [],
   "execution_count": null
  },
  {
   "metadata": {},
   "cell_type": "code",
   "source": [
    "t = []\n",
    "un = []"
   ],
   "id": "569fdbd6e0448d63",
   "outputs": [],
   "execution_count": null
  },
  {
   "metadata": {},
   "cell_type": "code",
   "source": [
    "ti, unce = LABQ_alter(2)\n",
    "t.append(ti)\n",
    "un.append(unce)"
   ],
   "id": "3734a0c4cce0ea05",
   "outputs": [],
   "execution_count": null
  },
  {
   "metadata": {},
   "cell_type": "code",
   "source": [
    "ti, unce = LABQ_alter(3)\n",
    "t.append(ti)\n",
    "un.append(unce)"
   ],
   "id": "29576cafd777d129",
   "outputs": [],
   "execution_count": null
  },
  {
   "metadata": {},
   "cell_type": "code",
   "source": [
    "ti, unce = LABQ_alter(4)\n",
    "t.append(ti)\n",
    "un.append(unce)"
   ],
   "id": "a46b739c8bc65637",
   "outputs": [],
   "execution_count": null
  },
  {
   "metadata": {},
   "cell_type": "code",
   "source": [
    "ti, unce = LABQ_alter(5)\n",
    "t.append(ti)\n",
    "un.append(unce)"
   ],
   "id": "87ecbde580168d55",
   "outputs": [],
   "execution_count": null
  },
  {
   "metadata": {},
   "cell_type": "code",
   "source": [
    "ti, unce = LABQ_alter(6)\n",
    "t.append(ti)\n",
    "un.append(unce)"
   ],
   "id": "3f11e309461d807f",
   "outputs": [],
   "execution_count": null
  },
  {
   "metadata": {},
   "cell_type": "code",
   "source": [
    "ti, unce = LABQ_alter(7)\n",
    "t.append(ti)\n",
    "un.append(unce)"
   ],
   "id": "9a685e36bec980ac",
   "outputs": [],
   "execution_count": null
  },
  {
   "metadata": {},
   "cell_type": "code",
   "source": [
    "ti, unce = LABQ_alter(8)\n",
    "t.append(ti)\n",
    "un.append(unce)"
   ],
   "id": "f904ded74b6fafd9",
   "outputs": [],
   "execution_count": null
  },
  {
   "metadata": {},
   "cell_type": "code",
   "source": [
    "dimension = 8\n",
    "avg_time = []\n",
    "for i in range(dimension - 1):\n",
    "    plt.plot(range(len(un[i])), un[i], label=f\"{i+2}D\")\n",
    "    avg_time.append(np.mean(t[i]))\n",
    "plt.title(\"Uncertainty Rate\")\n",
    "plt.legend()\n",
    "plt.show()\n",
    "plt.plot(range(2, dimension + 1),avg_time)\n",
    "plt.title(\"Average Time\")\n",
    "plt.show()\n"
   ],
   "id": "f63befe419da722a",
   "outputs": [],
   "execution_count": null
  },
  {
   "metadata": {},
   "cell_type": "code",
   "source": "",
   "id": "78fabee92f523923",
   "outputs": [],
   "execution_count": null
  }
 ],
 "metadata": {
  "kernelspec": {
   "display_name": "Python 3",
   "language": "python",
   "name": "python3"
  },
  "language_info": {
   "codemirror_mode": {
    "name": "ipython",
    "version": 2
   },
   "file_extension": ".py",
   "mimetype": "text/x-python",
   "name": "python",
   "nbconvert_exporter": "python",
   "pygments_lexer": "ipython2",
   "version": "2.7.6"
  }
 },
 "nbformat": 4,
 "nbformat_minor": 5
}
