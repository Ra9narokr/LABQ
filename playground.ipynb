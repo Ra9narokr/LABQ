{
 "cells": [
  {
   "metadata": {},
   "cell_type": "code",
   "source": [
    "from Algorithm import Gaussian_Process\n",
    "from Algorithm import LA_Bayessian_Quadrature\n",
    "from Algorithm import Mesh\n",
    "from Algorithm import Kernels\n",
    "import Target_Function as tf\n",
    "\n",
    "import numpy as np\n"
   ],
   "id": "b6a444ae4fa6feb3",
   "outputs": [],
   "execution_count": null
  },
  {
   "metadata": {},
   "cell_type": "code",
   "source": [
    "opt_spy  = tf.Option('call', 0, 600, 0.1672, 0.15,  1, 100)   # SPDR S&P 500 ETF  (广义市场基准)\n",
    "opt_aapl = tf.Option('call', 1, 200, 0.2613, 0.49,  1, 100)   # Apple\n",
    "opt_tsla = tf.Option('call', 2, 350, 0.6398, 0.57,  1, 100)   # Tesla\n",
    "opt_nvda = tf.Option('call', 3, 145, 0.3482, 0.24,  1, 100)   # NVIDIA\n",
    "opt_amzn = tf.Option('call', 4, 210, 0.2902, 0.24,  1, 100)   # Amazon\n",
    "opt_meta = tf.Option('call', 5, 700, 0.2924, 0.24,  1, 100)   # Meta\n",
    "opt_msft = tf.Option('call', 6, 485, 0.1817, 0.15,  1, 100)   # Microsoft\n",
    "opt_goog = tf.Option('call', 7, 165, 0.3226, 0.32,  1, 100)   # Google\n",
    "opt_amd  = tf.Option('call', 8, 130, 0.4065, 0.32,  1, 100)   # AMD\n",
    "opt_mstr = tf.Option('call', 9, 370, 0.5098, 0.49,  1, 100)   # MicroStrategy\n",
    "\n",
    "def LABQ(D):\n",
    "    options = [opt_spy, opt_aapl, opt_tsla, opt_nvda, opt_amzn,\n",
    "               opt_meta, opt_msft, opt_goog, opt_amd, opt_mstr]\n",
    "    portfolio = tf.OptionPortfolio(\n",
    "        0.04,50,900,\n",
    "        options[:D]\n",
    "    )\n",
    "    D = len(portfolio.options)\n",
    "    func = portfolio.target_function\n",
    "    xx = np.linspace(0., 1., 3)\n",
    "    grids = np.meshgrid(*([xx] * D),)\n",
    "    X = np.vstack([g.ravel() for g in grids]).T\n",
    "    Y = np.array([func(x) for x in X])\n",
    "    beta = np.concatenate([\n",
    "    np.array([-0.5]),\n",
    "    np.random.uniform(-2, 0, size=11 * D)\n",
    "    ])\n",
    "    mesh1 = Mesh.get_points_Sobol(X,_)\n",
    "    GP = Gaussian_Process.GaussianProcess(Kernels.K_lin_mat2_10,beta,X,Y,mesh = mesh1)\n",
    "    a, b, time, uncertainty = LA_Bayessian_Quadrature.ABC_D(\n",
    "        func,\n",
    "        GP,\n",
    "        Mesh.get_points_Sobol,\n",
    "        n = min(30,max(49-6*D,3)),\n",
    "        lambd = [30, 1],\n",
    "        point_mesh = mesh1,\n",
    "        sobol = min(7,12-D)\n",
    "    )\n",
    "    return time,uncertainty\n",
    "\n",
    "result = []\n",
    "for D in range(2,11):\n",
    "    \"\"\"\n",
    "    2D --> 31 Steps, Sobol: 2^7\n",
    "    3D --> 31 Steps, Sobol: 2^7\n",
    "    4D --> 26 Steps, Sobol: 2^7\n",
    "    5D --> 20 Steps, Sobol: 2^7\n",
    "    6D --> 14 Steps, Sobol: 2^6\n",
    "    7D --> 8 Steps, Sobol: 2^5\n",
    "    8D --> 4 Steps, Sobol: 2^4\n",
    "    9D --> 4 Steps, Sobol: 2^3\n",
    "    10D --> 4 Steps, Sobol: 2^2\n",
    "\n",
    "    \"\"\"\n",
    "    time, uncertainty = LABQ(D)\n",
    "    result.append([D,time,uncertainty])\n",
    "print(result)"
   ],
   "id": "fda3055e5ff75fee",
   "outputs": [],
   "execution_count": null
  },
  {
   "metadata": {},
   "cell_type": "code",
   "source": "",
   "id": "3734a0c4cce0ea05",
   "outputs": [],
   "execution_count": null
  }
 ],
 "metadata": {
  "kernelspec": {
   "display_name": "Python 3",
   "language": "python",
   "name": "python3"
  },
  "language_info": {
   "codemirror_mode": {
    "name": "ipython",
    "version": 2
   },
   "file_extension": ".py",
   "mimetype": "text/x-python",
   "name": "python",
   "nbconvert_exporter": "python",
   "pygments_lexer": "ipython2",
   "version": "2.7.6"
  }
 },
 "nbformat": 4,
 "nbformat_minor": 5
}
