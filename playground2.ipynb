{
 "cells": [
  {
   "metadata": {
    "ExecuteTime": {
     "end_time": "2025-06-25T13:44:06.398581Z",
     "start_time": "2025-06-25T13:44:05.761951Z"
    }
   },
   "cell_type": "code",
   "source": [
    "from Algorithm import Gaussian_Process\n",
    "from Algorithm import LA_Bayessian_Quadrature\n",
    "from Algorithm import Mesh\n",
    "from Algorithm import Kernels\n",
    "import Target_Function as tf\n",
    "\n",
    "import numpy as np\n",
    "import matplotlib.pyplot as plt"
   ],
   "id": "b6a444ae4fa6feb3",
   "outputs": [],
   "execution_count": 1
  },
  {
   "metadata": {
    "ExecuteTime": {
     "end_time": "2025-06-25T13:44:06.500393Z",
     "start_time": "2025-06-25T13:44:06.498327Z"
    }
   },
   "cell_type": "code",
   "source": [
    "opt_spy  = tf.Option('call', 0, 600, 0.1672, 0.15,  1, 100)   # SPDR S&P 500 ETF  (广义市场基准)\n",
    "opt_aapl = tf.Option('call', 1, 200, 0.2613, 0.49,  1, 100)   # Apple\n",
    "opt_tsla = tf.Option('call', 2, 350, 0.6398, 0.57,  1, 100)   # Tesla\n",
    "opt_nvda = tf.Option('call', 3, 145, 0.3482, 0.24,  1, 100)   # NVIDIA\n",
    "opt_amzn = tf.Option('call', 4, 210, 0.2902, 0.24,  1, 100)   # Amazon\n",
    "opt_meta = tf.Option('call', 5, 700, 0.2924, 0.24,  1, 100)   # Meta\n",
    "opt_msft = tf.Option('call', 6, 485, 0.1817, 0.15,  1, 100)   # Microsoft\n",
    "opt_goog = tf.Option('call', 7, 165, 0.3226, 0.32,  1, 100)   # Google\n",
    "opt_amd  = tf.Option('call', 8, 130, 0.4065, 0.32,  1, 100)   # AMD\n",
    "opt_mstr = tf.Option('call', 9, 370, 0.5098, 0.49,  1, 100)   # MicroStrategy"
   ],
   "id": "fda3055e5ff75fee",
   "outputs": [],
   "execution_count": 2
  },
  {
   "metadata": {
    "ExecuteTime": {
     "end_time": "2025-06-25T13:44:06.512384Z",
     "start_time": "2025-06-25T13:44:06.509926Z"
    }
   },
   "cell_type": "code",
   "source": [
    "def LABQ_alter(D):\n",
    "    options = [opt_spy, opt_aapl, opt_tsla, opt_nvda, opt_amzn,\n",
    "               opt_meta, opt_msft, opt_goog, opt_amd, opt_mstr]\n",
    "    portfolio = tf.OptionPortfolio(\n",
    "        0.04,50,900,\n",
    "        options[:D]\n",
    "    )\n",
    "    D = len(portfolio.options)\n",
    "    func = portfolio.target_function\n",
    "    aaa = np.array([np.zeros(D)])\n",
    "    X = Mesh.get_points_Sobol(aaa,0,D)\n",
    "    Y = np.array([func(x) for x in X])\n",
    "    beta = np.concatenate([\n",
    "    np.array([-0.5]),\n",
    "    np.random.uniform(-2, 0, size=11 * D)\n",
    "    ])\n",
    "    mesh1 = Mesh.get_points_Sobol(X,_)\n",
    "    GP = Gaussian_Process.GaussianProcess(Kernels.K_lin_mat2_10,beta,X,Y,mesh = mesh1)\n",
    "    sobol = [3,3,3,3,3,3,3]\n",
    "    a, b, times, uncertainties = LA_Bayessian_Quadrature.ABC_D_alter(\n",
    "        func,\n",
    "        GP,\n",
    "        Mesh.get_points_Sobol,\n",
    "        rate = 0.05,\n",
    "        min_n = 10,\n",
    "        max_n = 100,\n",
    "        lambd = [30, 1],\n",
    "        point_mesh = mesh1,\n",
    "        sobol = sobol[D-2] #2^sobol points\n",
    "    )\n",
    "    return times,uncertainties"
   ],
   "id": "1c66edd28b5d02e1",
   "outputs": [],
   "execution_count": 3
  },
  {
   "metadata": {
    "ExecuteTime": {
     "end_time": "2025-06-25T13:44:06.520187Z",
     "start_time": "2025-06-25T13:44:06.518665Z"
    }
   },
   "cell_type": "code",
   "source": [
    "t = []\n",
    "un = []"
   ],
   "id": "569fdbd6e0448d63",
   "outputs": [],
   "execution_count": 4
  },
  {
   "metadata": {
    "ExecuteTime": {
     "end_time": "2025-06-25T13:45:36.773622Z",
     "start_time": "2025-06-25T13:44:06.528089Z"
    }
   },
   "cell_type": "code",
   "source": [
    "ti, unce = LABQ_alter(2)\n",
    "t.append(ti)\n",
    "un.append(unce)"
   ],
   "id": "3734a0c4cce0ea05",
   "outputs": [
    {
     "name": "stdout",
     "output_type": "stream",
     "text": [
      "Dimensions: 2 , Sobol: 3\n",
      "Step 1, Time: 10.26, Result: [0.42831775 0.03815331], Uncertainty Rate: 45.60%\n",
      "Step 2, Time: 6.53, Result: [0.4462614  0.01720051], Uncertainty Rate: 29.39%\n",
      "Step 3, Time: 6.57, Result: [0.48003427 0.01225684], Uncertainty Rate: 23.06%\n",
      "Step 4, Time: 6.84, Result: [0.52940945 0.00791726], Uncertainty Rate: 16.81%\n",
      "Step 5, Time: 6.26, Result: [0.53652282 0.00506568], Uncertainty Rate: 13.27%\n",
      "Step 6, Time: 6.98, Result: [0.55534734 0.00360768], Uncertainty Rate: 10.82%\n",
      "Step 7, Time: 7.09, Result: [0.56078918 0.00215129], Uncertainty Rate: 8.27%\n",
      "Step 8, Time: 6.81, Result: [0.57510662 0.00186678], Uncertainty Rate: 7.51%\n",
      "Step 9, Time: 6.36, Result: [0.5779444  0.00150993], Uncertainty Rate: 6.72%\n",
      "Step 10, Time: 6.68, Result: [0.5887535  0.00135186], Uncertainty Rate: 6.24%\n",
      "Step 11, Time: 6.42, Result: [0.58391204 0.00114071], Uncertainty Rate: 5.78%\n",
      "Step 12, Time: 6.40, Result: [0.57921548 0.00094027], Uncertainty Rate: 5.29%\n",
      "Step 13, Time: 6.98, Result: [0.57785685 0.00075584], Uncertainty Rate: 4.76%\n",
      "2Dimensions Total_Time: 83.25\n"
     ]
    }
   ],
   "execution_count": 5
  },
  {
   "metadata": {
    "ExecuteTime": {
     "end_time": "2025-06-25T13:51:28.950617Z",
     "start_time": "2025-06-25T13:45:36.781074Z"
    }
   },
   "cell_type": "code",
   "source": [
    "ti, unce = LABQ_alter(3)\n",
    "t.append(ti)\n",
    "un.append(unce)"
   ],
   "id": "29576cafd777d129",
   "outputs": [
    {
     "name": "stdout",
     "output_type": "stream",
     "text": [
      "Dimensions: 3 , Sobol: 3\n",
      "Step 1, Time: 16.27, Result: [0.35920638 0.01136596], Uncertainty Rate: 29.68%\n",
      "Step 2, Time: 11.03, Result: [0.38106411 0.00884871], Uncertainty Rate: 24.69%\n",
      "Step 3, Time: 11.83, Result: [0.41738735 0.00788224], Uncertainty Rate: 21.27%\n",
      "Step 4, Time: 9.68, Result: [0.42942102 0.00668821], Uncertainty Rate: 19.04%\n",
      "Step 5, Time: 12.71, Result: [0.43741231 0.0056321 ], Uncertainty Rate: 17.16%\n",
      "Step 6, Time: 12.24, Result: [0.44523727 0.00503643], Uncertainty Rate: 15.94%\n",
      "Step 7, Time: 17.83, Result: [0.46192972 0.00450137], Uncertainty Rate: 14.52%\n",
      "Step 8, Time: 11.50, Result: [0.47802386 0.00391513], Uncertainty Rate: 13.09%\n",
      "Step 9, Time: 11.24, Result: [0.48831092 0.00344326], Uncertainty Rate: 12.02%\n",
      "Step 10, Time: 12.05, Result: [0.48994014 0.00308458], Uncertainty Rate: 11.34%\n",
      "Step 11, Time: 11.42, Result: [0.50976904 0.00302506], Uncertainty Rate: 10.79%\n",
      "Step 12, Time: 11.43, Result: [0.51001732 0.00271458], Uncertainty Rate: 10.22%\n",
      "Step 13, Time: 12.64, Result: [0.51863619 0.00261507], Uncertainty Rate: 9.86%\n",
      "Step 14, Time: 12.99, Result: [0.51769199 0.00235723], Uncertainty Rate: 9.38%\n",
      "Step 15, Time: 13.34, Result: [0.5192512  0.00207554], Uncertainty Rate: 8.77%\n",
      "Step 16, Time: 12.19, Result: [0.53042617 0.00193923], Uncertainty Rate: 8.30%\n",
      "Step 17, Time: 13.42, Result: [0.52989625 0.00177189], Uncertainty Rate: 7.94%\n",
      "Step 18, Time: 10.92, Result: [0.53279885 0.0016466 ], Uncertainty Rate: 7.62%\n",
      "Step 19, Time: 11.90, Result: [0.54222446 0.00152691], Uncertainty Rate: 7.21%\n",
      "Step 20, Time: 13.70, Result: [0.5479491  0.00138154], Uncertainty Rate: 6.78%\n",
      "Step 21, Time: 11.81, Result: [0.54749391 0.00127707], Uncertainty Rate: 6.53%\n",
      "Step 22, Time: 13.39, Result: [0.54901646 0.00115429], Uncertainty Rate: 6.19%\n",
      "Step 23, Time: 13.09, Result: [0.55875926 0.00114981], Uncertainty Rate: 6.07%\n",
      "Step 24, Time: 11.34, Result: [0.55942858 0.00107009], Uncertainty Rate: 5.85%\n",
      "Step 25, Time: 13.73, Result: [0.56784912 0.00101975], Uncertainty Rate: 5.62%\n",
      "Step 26, Time: 13.22, Result: [0.56839311 0.00093563], Uncertainty Rate: 5.38%\n",
      "Step 27, Time: 12.29, Result: [0.57093805 0.0008823 ], Uncertainty Rate: 5.20%\n",
      "Step 28, Time: 12.82, Result: [0.57061104 0.00080721], Uncertainty Rate: 4.98%\n",
      "3Dimensions Total_Time: 339.34\n"
     ]
    }
   ],
   "execution_count": 6
  },
  {
   "metadata": {
    "ExecuteTime": {
     "end_time": "2025-06-25T14:05:37.966118Z",
     "start_time": "2025-06-25T13:51:28.960100Z"
    }
   },
   "cell_type": "code",
   "source": [
    "ti, unce = LABQ_alter(4)\n",
    "t.append(ti)\n",
    "un.append(unce)"
   ],
   "id": "a46b739c8bc65637",
   "outputs": [
    {
     "name": "stdout",
     "output_type": "stream",
     "text": [
      "Dimensions: 4 , Sobol: 3\n",
      "Step 1, Time: 23.80, Result: [0.35535273 0.00753094], Uncertainty Rate: 24.42%\n",
      "Step 2, Time: 15.76, Result: [0.36790578 0.00663135], Uncertainty Rate: 22.13%\n",
      "Step 3, Time: 16.32, Result: [0.37407209 0.00602528], Uncertainty Rate: 20.75%\n",
      "Step 4, Time: 15.61, Result: [0.38417252 0.00556201], Uncertainty Rate: 19.41%\n",
      "Step 5, Time: 15.33, Result: [0.39081345 0.00505932], Uncertainty Rate: 18.20%\n",
      "Step 6, Time: 14.50, Result: [0.40166865 0.00476125], Uncertainty Rate: 17.18%\n",
      "Step 7, Time: 16.85, Result: [0.4074121  0.00441851], Uncertainty Rate: 16.32%\n",
      "Step 8, Time: 15.88, Result: [0.41190049 0.00417363], Uncertainty Rate: 15.68%\n",
      "Step 9, Time: 15.39, Result: [0.42229615 0.00389963], Uncertainty Rate: 14.79%\n",
      "Step 10, Time: 16.91, Result: [0.42648564 0.00368183], Uncertainty Rate: 14.23%\n",
      "Step 11, Time: 16.04, Result: [0.43878722 0.00357235], Uncertainty Rate: 13.62%\n",
      "Step 12, Time: 14.44, Result: [0.44904136 0.00339561], Uncertainty Rate: 12.98%\n",
      "Step 13, Time: 19.63, Result: [0.45890667 0.00316305], Uncertainty Rate: 12.26%\n",
      "Step 14, Time: 14.83, Result: [0.46598223 0.00301103], Uncertainty Rate: 11.78%\n",
      "Step 15, Time: 16.23, Result: [0.46712239 0.00277875], Uncertainty Rate: 11.28%\n",
      "Step 16, Time: 17.38, Result: [0.47368451 0.00263083], Uncertainty Rate: 10.83%\n",
      "Step 17, Time: 15.42, Result: [0.48093763 0.00238943], Uncertainty Rate: 10.16%\n",
      "Step 18, Time: 17.73, Result: [0.49467857 0.00237229], Uncertainty Rate: 9.85%\n",
      "Step 19, Time: 18.60, Result: [0.49511347 0.00222564], Uncertainty Rate: 9.53%\n",
      "Step 20, Time: 17.71, Result: [0.49608377 0.00210257], Uncertainty Rate: 9.24%\n",
      "Step 21, Time: 15.63, Result: [0.49760015 0.00201085], Uncertainty Rate: 9.01%\n",
      "Step 22, Time: 15.11, Result: [0.50148305 0.00190795], Uncertainty Rate: 8.71%\n",
      "Step 23, Time: 16.45, Result: [0.50309863 0.0018016 ], Uncertainty Rate: 8.44%\n",
      "Step 24, Time: 20.30, Result: [0.50852274 0.00169286], Uncertainty Rate: 8.09%\n",
      "Step 25, Time: 16.35, Result: [0.51119605 0.00163494], Uncertainty Rate: 7.91%\n",
      "Step 26, Time: 15.09, Result: [0.51556869 0.00156859], Uncertainty Rate: 7.68%\n",
      "Step 27, Time: 16.56, Result: [0.52117821 0.00155562], Uncertainty Rate: 7.57%\n",
      "Step 28, Time: 20.51, Result: [0.52435709 0.00149328], Uncertainty Rate: 7.37%\n",
      "Step 29, Time: 17.29, Result: [0.52536196 0.00142363], Uncertainty Rate: 7.18%\n",
      "Step 30, Time: 17.53, Result: [0.53196604 0.00138915], Uncertainty Rate: 7.01%\n",
      "Step 31, Time: 16.63, Result: [0.53394458 0.00134086], Uncertainty Rate: 6.86%\n",
      "Step 32, Time: 15.97, Result: [0.53714196 0.00129025], Uncertainty Rate: 6.69%\n",
      "Step 33, Time: 21.34, Result: [0.54038507 0.00124354], Uncertainty Rate: 6.53%\n",
      "Step 34, Time: 23.99, Result: [0.54574475 0.00123654], Uncertainty Rate: 6.44%\n",
      "Step 35, Time: 25.05, Result: [0.54995403 0.00120514], Uncertainty Rate: 6.31%\n",
      "Step 36, Time: 17.27, Result: [0.557626   0.00117868], Uncertainty Rate: 6.16%\n",
      "Step 37, Time: 16.93, Result: [0.56384585 0.00116546], Uncertainty Rate: 6.05%\n",
      "Step 38, Time: 21.48, Result: [0.56758767 0.00110497], Uncertainty Rate: 5.86%\n",
      "Step 39, Time: 33.31, Result: [0.56950371 0.00105415], Uncertainty Rate: 5.70%\n",
      "Step 40, Time: 19.53, Result: [0.57049096 0.00100201], Uncertainty Rate: 5.55%\n",
      "Step 41, Time: 17.34, Result: [0.57190367 0.0009565 ], Uncertainty Rate: 5.41%\n",
      "Step 42, Time: 16.74, Result: [0.57308781 0.00090404], Uncertainty Rate: 5.25%\n",
      "Step 43, Time: 32.22, Result: [0.57443387 0.00087028], Uncertainty Rate: 5.14%\n",
      "Step 44, Time: 36.95, Result: [0.57713607 0.00085079], Uncertainty Rate: 5.05%\n",
      "Step 45, Time: 28.84, Result: [0.58004308 0.0008241 ], Uncertainty Rate: 4.95%\n",
      "4Dimensions Total_Time: 820.16\n"
     ]
    }
   ],
   "execution_count": 7
  },
  {
   "metadata": {
    "ExecuteTime": {
     "end_time": "2025-06-25T14:37:25.076660Z",
     "start_time": "2025-06-25T14:05:37.976627Z"
    }
   },
   "cell_type": "code",
   "source": [
    "ti, unce = LABQ_alter(5)\n",
    "t.append(ti)\n",
    "un.append(unce)"
   ],
   "id": "87ecbde580168d55",
   "outputs": [
    {
     "name": "stdout",
     "output_type": "stream",
     "text": [
      "Dimensions: 5 , Sobol: 3\n",
      "Step 1, Time: 40.27, Result: [0.34139051 0.0038826 ], Uncertainty Rate: 18.25%\n",
      "Step 2, Time: 24.32, Result: [0.34806487 0.00360656], Uncertainty Rate: 17.25%\n",
      "Step 3, Time: 25.02, Result: [0.34967527 0.00348151], Uncertainty Rate: 16.87%\n",
      "Step 4, Time: 19.40, Result: [0.3599174 0.00342  ], Uncertainty Rate: 16.25%\n",
      "Step 5, Time: 19.80, Result: [0.36367208 0.00334707], Uncertainty Rate: 15.91%\n",
      "Step 6, Time: 20.92, Result: [0.37390743 0.00321858], Uncertainty Rate: 15.17%\n",
      "Step 7, Time: 19.66, Result: [0.37795302 0.0031553 ], Uncertainty Rate: 14.86%\n",
      "Step 8, Time: 19.23, Result: [0.38735962 0.00307883], Uncertainty Rate: 14.32%\n",
      "Step 9, Time: 20.14, Result: [0.38995848 0.00299162], Uncertainty Rate: 14.03%\n",
      "Step 10, Time: 24.13, Result: [0.39628058 0.00275101], Uncertainty Rate: 13.24%\n",
      "Step 11, Time: 24.73, Result: [0.39681203 0.00262673], Uncertainty Rate: 12.92%\n",
      "Step 12, Time: 19.44, Result: [0.39995615 0.00258505], Uncertainty Rate: 12.71%\n",
      "Step 13, Time: 20.29, Result: [0.40442412 0.00247472], Uncertainty Rate: 12.30%\n",
      "Step 14, Time: 24.29, Result: [0.40588244 0.00236669], Uncertainty Rate: 11.99%\n",
      "Step 15, Time: 23.69, Result: [0.40635594 0.00230167], Uncertainty Rate: 11.81%\n",
      "Step 16, Time: 18.99, Result: [0.4083301  0.00227318], Uncertainty Rate: 11.68%\n",
      "Step 17, Time: 24.73, Result: [0.41306702 0.00214643], Uncertainty Rate: 11.22%\n",
      "Step 18, Time: 24.18, Result: [0.416307   0.00211813], Uncertainty Rate: 11.06%\n",
      "Step 19, Time: 28.99, Result: [0.41974017 0.00204693], Uncertainty Rate: 10.78%\n",
      "Step 20, Time: 20.80, Result: [0.4240497 0.0019989], Uncertainty Rate: 10.54%\n",
      "Step 21, Time: 25.50, Result: [0.42669695 0.00188972], Uncertainty Rate: 10.19%\n",
      "Step 22, Time: 20.93, Result: [0.42767852 0.0018576 ], Uncertainty Rate: 10.08%\n",
      "Step 23, Time: 20.93, Result: [0.43133209 0.0018242 ], Uncertainty Rate: 9.90%\n",
      "Step 24, Time: 23.98, Result: [0.43593686 0.00171896], Uncertainty Rate: 9.51%\n",
      "Step 25, Time: 23.46, Result: [0.43970813 0.00169722], Uncertainty Rate: 9.37%\n",
      "Step 26, Time: 20.99, Result: [0.44168456 0.00167452], Uncertainty Rate: 9.26%\n",
      "Step 27, Time: 24.16, Result: [0.44258422 0.001591  ], Uncertainty Rate: 9.01%\n",
      "Step 28, Time: 23.17, Result: [0.44417662 0.00156423], Uncertainty Rate: 8.90%\n",
      "Step 29, Time: 22.61, Result: [0.4485651  0.00153641], Uncertainty Rate: 8.74%\n",
      "Step 30, Time: 21.19, Result: [0.45398356 0.00150319], Uncertainty Rate: 8.54%\n",
      "Step 31, Time: 21.54, Result: [0.45900968 0.00147711], Uncertainty Rate: 8.37%\n",
      "Step 32, Time: 22.46, Result: [0.46270603 0.00146271], Uncertainty Rate: 8.27%\n",
      "Step 33, Time: 21.87, Result: [0.46644948 0.00143446], Uncertainty Rate: 8.12%\n",
      "Step 34, Time: 25.25, Result: [0.46790156 0.00137275], Uncertainty Rate: 7.92%\n",
      "Step 35, Time: 26.24, Result: [0.47002226 0.00135644], Uncertainty Rate: 7.84%\n",
      "Step 36, Time: 22.01, Result: [0.47342689 0.00134082], Uncertainty Rate: 7.73%\n",
      "Step 37, Time: 22.38, Result: [0.47436901 0.00132386], Uncertainty Rate: 7.67%\n",
      "Step 38, Time: 26.40, Result: [0.47688741 0.00126622], Uncertainty Rate: 7.46%\n",
      "Step 39, Time: 24.71, Result: [0.47836658 0.00124046], Uncertainty Rate: 7.36%\n",
      "Step 40, Time: 26.86, Result: [0.48013962 0.00119749], Uncertainty Rate: 7.21%\n",
      "Step 41, Time: 25.61, Result: [0.4801027  0.00115673], Uncertainty Rate: 7.08%\n",
      "Step 42, Time: 30.67, Result: [0.48210164 0.00113705], Uncertainty Rate: 6.99%\n",
      "Step 43, Time: 40.61, Result: [0.48240098 0.00109355], Uncertainty Rate: 6.86%\n",
      "Step 44, Time: 27.30, Result: [0.48369025 0.00108025], Uncertainty Rate: 6.80%\n",
      "Step 45, Time: 38.30, Result: [0.48662034 0.00106922], Uncertainty Rate: 6.72%\n",
      "Step 46, Time: 27.67, Result: [0.48951878 0.00104895], Uncertainty Rate: 6.62%\n",
      "Step 47, Time: 26.39, Result: [0.49047624 0.0010263 ], Uncertainty Rate: 6.53%\n",
      "Step 48, Time: 28.63, Result: [0.49250159 0.00099435], Uncertainty Rate: 6.40%\n",
      "Step 49, Time: 36.28, Result: [0.49561459 0.00097688], Uncertainty Rate: 6.31%\n",
      "Step 50, Time: 25.19, Result: [0.49916709 0.00096512], Uncertainty Rate: 6.22%\n",
      "Step 51, Time: 30.91, Result: [0.50024154 0.00094676], Uncertainty Rate: 6.15%\n",
      "Step 52, Time: 34.71, Result: [0.50177706 0.00093057], Uncertainty Rate: 6.08%\n",
      "Step 53, Time: 40.05, Result: [0.50328942 0.00091496], Uncertainty Rate: 6.01%\n",
      "Step 54, Time: 34.36, Result: [0.50382568 0.00089332], Uncertainty Rate: 5.93%\n",
      "Step 55, Time: 24.01, Result: [0.50667681 0.00088539], Uncertainty Rate: 5.87%\n",
      "Step 56, Time: 32.91, Result: [0.50696439 0.00086649], Uncertainty Rate: 5.81%\n",
      "Step 57, Time: 25.01, Result: [0.50867866 0.00085436], Uncertainty Rate: 5.75%\n",
      "Step 58, Time: 34.29, Result: [0.51025203 0.00083473], Uncertainty Rate: 5.66%\n",
      "Step 59, Time: 27.66, Result: [0.51265464 0.00082869], Uncertainty Rate: 5.62%\n",
      "Step 60, Time: 40.35, Result: [0.51333842 0.00081721], Uncertainty Rate: 5.57%\n",
      "Step 61, Time: 30.74, Result: [0.51594791 0.00079508], Uncertainty Rate: 5.47%\n",
      "Step 62, Time: 30.40, Result: [0.51661123 0.00078437], Uncertainty Rate: 5.42%\n",
      "Step 63, Time: 36.52, Result: [0.51700469 0.00076953], Uncertainty Rate: 5.37%\n",
      "Step 64, Time: 27.61, Result: [0.51730539 0.00076188], Uncertainty Rate: 5.34%\n",
      "Step 65, Time: 38.43, Result: [0.52075093 0.00074079], Uncertainty Rate: 5.23%\n",
      "Step 66, Time: 30.35, Result: [0.52282051 0.00073086], Uncertainty Rate: 5.17%\n",
      "Step 67, Time: 34.22, Result: [0.52270521 0.00071739], Uncertainty Rate: 5.12%\n",
      "Step 68, Time: 38.77, Result: [0.52341707 0.00070214], Uncertainty Rate: 5.06%\n",
      "Step 69, Time: 40.15, Result: [0.52472439 0.00069464], Uncertainty Rate: 5.02%\n",
      "Step 70, Time: 38.81, Result: [0.52559372 0.00068222], Uncertainty Rate: 4.97%\n",
      "5Dimensions Total_Time: 1868.28\n"
     ]
    }
   ],
   "execution_count": 8
  },
  {
   "metadata": {
    "ExecuteTime": {
     "end_time": "2025-06-25T15:47:03.484005Z",
     "start_time": "2025-06-25T14:37:25.094151Z"
    }
   },
   "cell_type": "code",
   "source": [
    "ti, unce = LABQ_alter(6)\n",
    "t.append(ti)\n",
    "un.append(unce)"
   ],
   "id": "3f11e309461d807f",
   "outputs": [
    {
     "name": "stdout",
     "output_type": "stream",
     "text": [
      "Dimensions: 6 , Sobol: 3\n",
      "Step 1, Time: 56.67, Result: [0.27437728 0.00161572], Uncertainty Rate: 14.65%\n",
      "Step 2, Time: 26.77, Result: [0.27643119 0.00157885], Uncertainty Rate: 14.37%\n",
      "Step 3, Time: 30.77, Result: [0.27673073 0.00155711], Uncertainty Rate: 14.26%\n",
      "Step 4, Time: 31.98, Result: [0.2766489  0.00154029], Uncertainty Rate: 14.19%\n",
      "Step 5, Time: 29.86, Result: [0.27954044 0.00152388], Uncertainty Rate: 13.96%\n",
      "Step 6, Time: 30.90, Result: [0.28238343 0.00150786], Uncertainty Rate: 13.75%\n",
      "Step 7, Time: 25.85, Result: [0.28586715 0.00149143], Uncertainty Rate: 13.51%\n",
      "Step 8, Time: 31.21, Result: [0.28607201 0.00147985], Uncertainty Rate: 13.45%\n",
      "Step 9, Time: 27.01, Result: [0.28752419 0.00145702], Uncertainty Rate: 13.28%\n",
      "Step 10, Time: 25.88, Result: [0.2896505  0.00144111], Uncertainty Rate: 13.11%\n",
      "Step 11, Time: 31.94, Result: [0.29168335 0.00143002], Uncertainty Rate: 12.96%\n",
      "Step 12, Time: 44.09, Result: [0.29547202 0.00140176], Uncertainty Rate: 12.67%\n",
      "Step 13, Time: 40.12, Result: [0.29829026 0.0013824 ], Uncertainty Rate: 12.46%\n",
      "Step 14, Time: 30.09, Result: [0.30020599 0.00137041], Uncertainty Rate: 12.33%\n",
      "Step 15, Time: 37.02, Result: [0.30213581 0.0013372 ], Uncertainty Rate: 12.10%\n",
      "Step 16, Time: 42.73, Result: [0.30459455 0.00118815], Uncertainty Rate: 11.32%\n",
      "Step 17, Time: 34.59, Result: [0.30620479 0.00118004], Uncertainty Rate: 11.22%\n",
      "Step 18, Time: 29.59, Result: [0.30863298 0.00116576], Uncertainty Rate: 11.06%\n",
      "Step 19, Time: 34.82, Result: [0.31006194 0.00115585], Uncertainty Rate: 10.96%\n",
      "Step 20, Time: 35.44, Result: [0.31242335 0.0011388 ], Uncertainty Rate: 10.80%\n",
      "Step 21, Time: 33.68, Result: [0.31608579 0.00112797], Uncertainty Rate: 10.63%\n",
      "Step 22, Time: 29.04, Result: [0.31749841 0.00110989], Uncertainty Rate: 10.49%\n",
      "Step 23, Time: 34.88, Result: [0.31917822 0.00109843], Uncertainty Rate: 10.38%\n",
      "Step 24, Time: 32.40, Result: [0.32094759 0.00109039], Uncertainty Rate: 10.29%\n",
      "Step 25, Time: 30.72, Result: [0.32147905 0.0010805 ], Uncertainty Rate: 10.22%\n",
      "Step 26, Time: 31.55, Result: [0.32339288 0.0010664 ], Uncertainty Rate: 10.10%\n",
      "Step 27, Time: 31.67, Result: [0.32470284 0.00105817], Uncertainty Rate: 10.02%\n",
      "Step 28, Time: 34.89, Result: [0.32603001 0.00105139], Uncertainty Rate: 9.95%\n",
      "Step 29, Time: 34.27, Result: [0.32704692 0.00104344], Uncertainty Rate: 9.88%\n",
      "Step 30, Time: 33.31, Result: [0.32762178 0.00103777], Uncertainty Rate: 9.83%\n",
      "Step 31, Time: 30.76, Result: [0.32967203 0.00102518], Uncertainty Rate: 9.71%\n",
      "Step 32, Time: 33.54, Result: [0.33119819 0.00101717], Uncertainty Rate: 9.63%\n",
      "Step 33, Time: 31.85, Result: [0.33389142 0.00100888], Uncertainty Rate: 9.51%\n",
      "Step 34, Time: 33.68, Result: [0.33598131 0.00099847], Uncertainty Rate: 9.40%\n",
      "Step 35, Time: 36.44, Result: [0.33738258 0.00099057], Uncertainty Rate: 9.33%\n",
      "Step 36, Time: 31.57, Result: [0.33898485 0.00098232], Uncertainty Rate: 9.25%\n",
      "Step 37, Time: 33.69, Result: [0.33946835 0.00097652], Uncertainty Rate: 9.21%\n",
      "Step 38, Time: 33.23, Result: [0.34124848 0.00096989], Uncertainty Rate: 9.13%\n",
      "Step 39, Time: 37.25, Result: [0.34254095 0.0009619 ], Uncertainty Rate: 9.05%\n",
      "Step 40, Time: 34.35, Result: [0.34442378 0.00095377], Uncertainty Rate: 8.97%\n",
      "Step 41, Time: 33.61, Result: [0.34546156 0.00094692], Uncertainty Rate: 8.91%\n",
      "Step 42, Time: 34.37, Result: [0.34609001 0.00093647], Uncertainty Rate: 8.84%\n",
      "Step 43, Time: 38.65, Result: [0.34653681 0.0009306 ], Uncertainty Rate: 8.80%\n",
      "Step 44, Time: 34.32, Result: [0.34826316 0.00092351], Uncertainty Rate: 8.73%\n",
      "Step 45, Time: 39.17, Result: [0.35017587 0.00091478], Uncertainty Rate: 8.64%\n",
      "Step 46, Time: 34.86, Result: [0.35086467 0.00090824], Uncertainty Rate: 8.59%\n",
      "Step 47, Time: 34.73, Result: [0.35235212 0.00090344], Uncertainty Rate: 8.53%\n",
      "Step 48, Time: 36.01, Result: [0.35396269 0.00089381], Uncertainty Rate: 8.45%\n",
      "Step 49, Time: 40.58, Result: [0.35519216 0.00088787], Uncertainty Rate: 8.39%\n",
      "Step 50, Time: 34.87, Result: [0.35704537 0.00088285], Uncertainty Rate: 8.32%\n",
      "Step 51, Time: 37.49, Result: [0.35757281 0.00087471], Uncertainty Rate: 8.27%\n",
      "Step 52, Time: 42.51, Result: [0.35927136 0.00086913], Uncertainty Rate: 8.21%\n",
      "Step 53, Time: 35.83, Result: [0.36049871 0.00086165], Uncertainty Rate: 8.14%\n",
      "Step 54, Time: 37.55, Result: [0.36121856 0.0008542 ], Uncertainty Rate: 8.09%\n",
      "Step 55, Time: 41.68, Result: [0.36166327 0.00084922], Uncertainty Rate: 8.06%\n",
      "Step 56, Time: 59.42, Result: [0.36214866 0.00084348], Uncertainty Rate: 8.02%\n",
      "Step 57, Time: 40.55, Result: [0.36338881 0.00083961], Uncertainty Rate: 7.97%\n",
      "Step 58, Time: 42.03, Result: [0.36447918 0.0008349 ], Uncertainty Rate: 7.93%\n",
      "Step 59, Time: 44.29, Result: [0.36506225 0.00082988], Uncertainty Rate: 7.89%\n",
      "Step 60, Time: 45.42, Result: [0.36626598 0.00082398], Uncertainty Rate: 7.84%\n",
      "Step 61, Time: 43.24, Result: [0.36702995 0.00081949], Uncertainty Rate: 7.80%\n",
      "Step 62, Time: 36.54, Result: [0.36878723 0.00081099], Uncertainty Rate: 7.72%\n",
      "Step 63, Time: 42.21, Result: [0.37104974 0.00080495], Uncertainty Rate: 7.65%\n",
      "Step 64, Time: 43.43, Result: [0.37169101 0.00079976], Uncertainty Rate: 7.61%\n",
      "Step 65, Time: 45.70, Result: [0.3735107  0.00079431], Uncertainty Rate: 7.55%\n",
      "Step 66, Time: 46.46, Result: [0.37453959 0.00078923], Uncertainty Rate: 7.50%\n",
      "Step 67, Time: 45.36, Result: [0.37586131 0.00078402], Uncertainty Rate: 7.45%\n",
      "Step 68, Time: 47.34, Result: [0.3781074  0.00077888], Uncertainty Rate: 7.38%\n",
      "Step 69, Time: 45.48, Result: [0.37871253 0.00077403], Uncertainty Rate: 7.35%\n",
      "Step 70, Time: 45.89, Result: [0.37960318 0.00076901], Uncertainty Rate: 7.31%\n",
      "Step 71, Time: 39.91, Result: [0.38155996 0.00076291], Uncertainty Rate: 7.24%\n",
      "Step 72, Time: 47.13, Result: [0.38284421 0.00075574], Uncertainty Rate: 7.18%\n",
      "Step 73, Time: 50.72, Result: [0.38385933 0.00075122], Uncertainty Rate: 7.14%\n",
      "Step 74, Time: 46.78, Result: [0.38468229 0.00074566], Uncertainty Rate: 7.10%\n",
      "Step 75, Time: 47.62, Result: [0.38621304 0.00074236], Uncertainty Rate: 7.05%\n",
      "Step 76, Time: 44.84, Result: [0.38662373 0.00073845], Uncertainty Rate: 7.03%\n",
      "Step 77, Time: 39.19, Result: [0.38712608 0.00073589], Uncertainty Rate: 7.01%\n",
      "Step 78, Time: 46.03, Result: [0.38744705 0.0007296 ], Uncertainty Rate: 6.97%\n",
      "Step 79, Time: 39.67, Result: [0.38784225 0.00072611], Uncertainty Rate: 6.95%\n",
      "Step 80, Time: 46.84, Result: [0.38940703 0.00072267], Uncertainty Rate: 6.90%\n",
      "Step 81, Time: 49.43, Result: [0.3898755  0.00071962], Uncertainty Rate: 6.88%\n",
      "Step 82, Time: 53.41, Result: [0.39033448 0.00071421], Uncertainty Rate: 6.85%\n",
      "Step 83, Time: 54.75, Result: [0.39101757 0.00070995], Uncertainty Rate: 6.81%\n",
      "Step 84, Time: 51.47, Result: [0.39187218 0.00070312], Uncertainty Rate: 6.77%\n",
      "Step 85, Time: 43.09, Result: [0.39377572 0.00069988], Uncertainty Rate: 6.72%\n",
      "Step 86, Time: 52.94, Result: [0.39477773 0.00069641], Uncertainty Rate: 6.68%\n",
      "Step 87, Time: 48.40, Result: [0.39552873 0.00069357], Uncertainty Rate: 6.66%\n",
      "Step 88, Time: 52.96, Result: [0.39704409 0.00069003], Uncertainty Rate: 6.62%\n",
      "Step 89, Time: 51.97, Result: [0.39838663 0.00068438], Uncertainty Rate: 6.57%\n",
      "Step 90, Time: 54.50, Result: [0.39895681 0.00068069], Uncertainty Rate: 6.54%\n",
      "Step 91, Time: 51.43, Result: [0.39979766 0.00067625], Uncertainty Rate: 6.50%\n",
      "Step 92, Time: 57.05, Result: [0.40054259 0.00067248], Uncertainty Rate: 6.47%\n",
      "Step 93, Time: 57.09, Result: [0.40140556 0.00066804], Uncertainty Rate: 6.44%\n",
      "Step 94, Time: 51.66, Result: [0.40191038 0.00066619], Uncertainty Rate: 6.42%\n",
      "Step 95, Time: 51.12, Result: [0.40350774 0.00066307], Uncertainty Rate: 6.38%\n",
      "Step 96, Time: 55.78, Result: [0.40443722 0.00065917], Uncertainty Rate: 6.35%\n",
      "Step 97, Time: 49.99, Result: [0.40482898 0.0006545 ], Uncertainty Rate: 6.32%\n",
      "Step 98, Time: 55.61, Result: [0.40597156 0.00065065], Uncertainty Rate: 6.28%\n",
      "Step 99, Time: 50.05, Result: [0.40732118 0.00064721], Uncertainty Rate: 6.25%\n",
      "Step 100, Time: 53.51, Result: [0.40800275 0.00064532], Uncertainty Rate: 6.23%\n",
      "Step 101, Time: 53.98, Result: [0.40852139 0.00064231], Uncertainty Rate: 6.20%\n",
      "Step 102, Time: 58.92, Result: [0.40967025 0.00063863], Uncertainty Rate: 6.17%\n",
      "6Dimensions Total_Time: 4119.45\n"
     ]
    }
   ],
   "execution_count": 9
  },
  {
   "metadata": {
    "ExecuteTime": {
     "end_time": "2025-06-25T17:38:37.236189Z",
     "start_time": "2025-06-25T15:47:03.497931Z"
    }
   },
   "cell_type": "code",
   "source": [
    "ti, unce = LABQ_alter(7)\n",
    "t.append(ti)\n",
    "un.append(unce)"
   ],
   "id": "9a685e36bec980ac",
   "outputs": [
    {
     "name": "stdout",
     "output_type": "stream",
     "text": [
      "Dimensions: 7 , Sobol: 3\n",
      "Step 1, Time: 153.09, Result: [0.2468048  0.00073138], Uncertainty Rate: 10.96%\n",
      "Step 2, Time: 50.10, Result: [0.2477218  0.00072212], Uncertainty Rate: 10.85%\n",
      "Step 3, Time: 58.84, Result: [0.24936397 0.00071749], Uncertainty Rate: 10.74%\n",
      "Step 4, Time: 46.36, Result: [0.25112228 0.0007134 ], Uncertainty Rate: 10.64%\n",
      "Step 5, Time: 59.74, Result: [0.25288912 0.00070975], Uncertainty Rate: 10.53%\n",
      "Step 6, Time: 40.55, Result: [0.25419655 0.00070365], Uncertainty Rate: 10.44%\n",
      "Step 7, Time: 54.25, Result: [0.25559552 0.00069918], Uncertainty Rate: 10.35%\n",
      "Step 8, Time: 52.70, Result: [0.25650268 0.00069643], Uncertainty Rate: 10.29%\n",
      "Step 9, Time: 67.85, Result: [0.25793387 0.00069174], Uncertainty Rate: 10.20%\n",
      "Step 10, Time: 49.23, Result: [0.25852053 0.0006875 ], Uncertainty Rate: 10.14%\n",
      "Step 11, Time: 51.06, Result: [0.25995874 0.00068344], Uncertainty Rate: 10.06%\n",
      "Step 12, Time: 51.57, Result: [0.2610081  0.00068085], Uncertainty Rate: 10.00%\n",
      "Step 13, Time: 41.82, Result: [0.26226209 0.00067754], Uncertainty Rate: 9.93%\n",
      "Step 14, Time: 54.40, Result: [0.26302222 0.0006745 ], Uncertainty Rate: 9.87%\n",
      "Step 15, Time: 56.47, Result: [0.26416439 0.00067153], Uncertainty Rate: 9.81%\n",
      "Step 16, Time: 55.55, Result: [0.26587062 0.00066897], Uncertainty Rate: 9.73%\n",
      "Step 17, Time: 52.21, Result: [0.26622684 0.00066505], Uncertainty Rate: 9.69%\n",
      "Step 18, Time: 43.69, Result: [0.26737398 0.00065929], Uncertainty Rate: 9.60%\n",
      "Step 19, Time: 57.24, Result: [0.2684343  0.00065099], Uncertainty Rate: 9.50%\n",
      "Step 20, Time: 54.45, Result: [0.26933554 0.00064665], Uncertainty Rate: 9.44%\n",
      "Step 21, Time: 56.47, Result: [0.27063919 0.00064268], Uncertainty Rate: 9.37%\n",
      "Step 22, Time: 52.24, Result: [0.27185886 0.00064022], Uncertainty Rate: 9.31%\n",
      "Step 23, Time: 55.36, Result: [0.27229906 0.00063476], Uncertainty Rate: 9.25%\n",
      "Step 24, Time: 56.85, Result: [0.27301307 0.00063069], Uncertainty Rate: 9.20%\n",
      "Step 25, Time: 49.04, Result: [0.27400351 0.00062629], Uncertainty Rate: 9.13%\n",
      "Step 26, Time: 48.77, Result: [0.27457352 0.00062355], Uncertainty Rate: 9.09%\n",
      "Step 27, Time: 54.12, Result: [0.27578028 0.00061837], Uncertainty Rate: 9.02%\n",
      "Step 28, Time: 60.86, Result: [0.27719165 0.00061324], Uncertainty Rate: 8.93%\n",
      "Step 29, Time: 53.98, Result: [0.27757937 0.00061059], Uncertainty Rate: 8.90%\n",
      "Step 30, Time: 54.27, Result: [0.27849369 0.00060637], Uncertainty Rate: 8.84%\n",
      "Step 31, Time: 52.49, Result: [0.27957954 0.00060425], Uncertainty Rate: 8.79%\n",
      "Step 32, Time: 55.94, Result: [0.280526  0.0006016], Uncertainty Rate: 8.74%\n",
      "Step 33, Time: 56.15, Result: [0.28068105 0.00059754], Uncertainty Rate: 8.71%\n",
      "Step 34, Time: 56.77, Result: [0.28155606 0.00059506], Uncertainty Rate: 8.66%\n",
      "Step 35, Time: 54.58, Result: [0.28191895 0.0005924 ], Uncertainty Rate: 8.63%\n",
      "Step 36, Time: 51.54, Result: [0.28276262 0.00058963], Uncertainty Rate: 8.59%\n",
      "Step 37, Time: 55.08, Result: [0.28301533 0.00058479], Uncertainty Rate: 8.54%\n",
      "Step 38, Time: 63.61, Result: [0.2839337  0.00058209], Uncertainty Rate: 8.50%\n",
      "Step 39, Time: 68.01, Result: [0.28523836 0.00057802], Uncertainty Rate: 8.43%\n",
      "Step 40, Time: 53.97, Result: [0.28523459 0.00057475], Uncertainty Rate: 8.40%\n",
      "Step 41, Time: 61.00, Result: [0.28535294 0.00057248], Uncertainty Rate: 8.38%\n",
      "Step 42, Time: 57.06, Result: [0.28634388 0.00056955], Uncertainty Rate: 8.33%\n",
      "Step 43, Time: 59.71, Result: [0.28707967 0.00056606], Uncertainty Rate: 8.29%\n",
      "Step 44, Time: 60.16, Result: [0.2885372  0.00056352], Uncertainty Rate: 8.23%\n",
      "Step 45, Time: 63.85, Result: [0.28874023 0.00056061], Uncertainty Rate: 8.20%\n",
      "Step 46, Time: 68.94, Result: [0.28954196 0.00055682], Uncertainty Rate: 8.15%\n",
      "Step 47, Time: 69.50, Result: [0.28992421 0.00055496], Uncertainty Rate: 8.13%\n",
      "Step 48, Time: 71.47, Result: [0.29012009 0.00055279], Uncertainty Rate: 8.10%\n",
      "Step 49, Time: 65.12, Result: [0.29025315 0.00055056], Uncertainty Rate: 8.08%\n",
      "Step 50, Time: 62.15, Result: [0.29095903 0.00054818], Uncertainty Rate: 8.05%\n",
      "Step 51, Time: 60.97, Result: [0.29130631 0.00054614], Uncertainty Rate: 8.02%\n",
      "Step 52, Time: 72.67, Result: [0.29153261 0.00054456], Uncertainty Rate: 8.00%\n",
      "Step 53, Time: 98.80, Result: [0.29207678 0.00054213], Uncertainty Rate: 7.97%\n",
      "Step 54, Time: 75.69, Result: [0.29296566 0.00053935], Uncertainty Rate: 7.93%\n",
      "Step 55, Time: 69.62, Result: [0.2935749  0.00053681], Uncertainty Rate: 7.89%\n",
      "Step 56, Time: 57.54, Result: [0.29360158 0.00053546], Uncertainty Rate: 7.88%\n",
      "Step 57, Time: 61.26, Result: [0.29418167 0.00053208], Uncertainty Rate: 7.84%\n",
      "Step 58, Time: 72.32, Result: [0.29482357 0.00052994], Uncertainty Rate: 7.81%\n",
      "Step 59, Time: 62.28, Result: [0.29529553 0.00052775], Uncertainty Rate: 7.78%\n",
      "Step 60, Time: 73.47, Result: [0.29579507 0.00052552], Uncertainty Rate: 7.75%\n",
      "Step 61, Time: 63.28, Result: [0.29654166 0.00052327], Uncertainty Rate: 7.71%\n",
      "Step 62, Time: 57.44, Result: [0.29701883 0.00052113], Uncertainty Rate: 7.69%\n",
      "Step 63, Time: 78.64, Result: [0.29706112 0.00051767], Uncertainty Rate: 7.66%\n",
      "Step 64, Time: 77.67, Result: [0.29802221 0.00051507], Uncertainty Rate: 7.62%\n",
      "Step 65, Time: 78.93, Result: [0.29833622 0.000513  ], Uncertainty Rate: 7.59%\n",
      "Step 66, Time: 57.19, Result: [0.29908701 0.00051159], Uncertainty Rate: 7.56%\n",
      "Step 67, Time: 67.07, Result: [0.2995225  0.00050998], Uncertainty Rate: 7.54%\n",
      "Step 68, Time: 60.13, Result: [0.3007563  0.00050797], Uncertainty Rate: 7.49%\n",
      "Step 69, Time: 64.52, Result: [0.30179394 0.00050548], Uncertainty Rate: 7.45%\n",
      "Step 70, Time: 77.51, Result: [0.30275643 0.00050316], Uncertainty Rate: 7.41%\n",
      "Step 71, Time: 59.09, Result: [0.30336961 0.00050106], Uncertainty Rate: 7.38%\n",
      "Step 72, Time: 61.64, Result: [0.30354676 0.00049957], Uncertainty Rate: 7.36%\n",
      "Step 73, Time: 64.20, Result: [0.30356493 0.00049815], Uncertainty Rate: 7.35%\n",
      "Step 74, Time: 64.66, Result: [0.30376891 0.00049671], Uncertainty Rate: 7.34%\n",
      "Step 75, Time: 69.83, Result: [0.30461349 0.00049521], Uncertainty Rate: 7.31%\n",
      "Step 76, Time: 55.55, Result: [0.30535869 0.00049363], Uncertainty Rate: 7.28%\n",
      "Step 77, Time: 87.14, Result: [0.30602397 0.00049087], Uncertainty Rate: 7.24%\n",
      "Step 78, Time: 90.09, Result: [0.30648101 0.0004883 ], Uncertainty Rate: 7.21%\n",
      "Step 79, Time: 63.12, Result: [0.30699577 0.00048704], Uncertainty Rate: 7.19%\n",
      "Step 80, Time: 76.77, Result: [0.30734881 0.00048453], Uncertainty Rate: 7.16%\n",
      "Step 81, Time: 86.69, Result: [0.30794566 0.00048286], Uncertainty Rate: 7.14%\n",
      "Step 82, Time: 70.79, Result: [0.30887487 0.0004807 ], Uncertainty Rate: 7.10%\n",
      "Step 83, Time: 63.88, Result: [0.30940675 0.00047945], Uncertainty Rate: 7.08%\n",
      "Step 84, Time: 69.35, Result: [0.31068784 0.00047727], Uncertainty Rate: 7.03%\n",
      "Step 85, Time: 64.24, Result: [0.31100306 0.00047535], Uncertainty Rate: 7.01%\n",
      "Step 86, Time: 83.58, Result: [0.31192284 0.00047296], Uncertainty Rate: 6.97%\n",
      "Step 87, Time: 66.57, Result: [0.31260791 0.00047137], Uncertainty Rate: 6.95%\n",
      "Step 88, Time: 70.74, Result: [0.31327427 0.00046973], Uncertainty Rate: 6.92%\n",
      "Step 89, Time: 73.92, Result: [0.31425061 0.00046823], Uncertainty Rate: 6.89%\n",
      "Step 90, Time: 69.62, Result: [0.3145913  0.00046716], Uncertainty Rate: 6.87%\n",
      "Step 91, Time: 69.50, Result: [0.31564995 0.00046596], Uncertainty Rate: 6.84%\n",
      "Step 92, Time: 64.95, Result: [0.31606799 0.00046445], Uncertainty Rate: 6.82%\n",
      "Step 93, Time: 69.40, Result: [0.31686226 0.00046218], Uncertainty Rate: 6.78%\n",
      "Step 94, Time: 92.33, Result: [0.31727905 0.00046026], Uncertainty Rate: 6.76%\n",
      "Step 95, Time: 70.99, Result: [0.31754229 0.00045882], Uncertainty Rate: 6.75%\n",
      "Step 96, Time: 123.42, Result: [0.31825687 0.00045722], Uncertainty Rate: 6.72%\n",
      "Step 97, Time: 91.99, Result: [0.31869048 0.00045515], Uncertainty Rate: 6.69%\n",
      "Step 98, Time: 67.00, Result: [0.31914786 0.00045351], Uncertainty Rate: 6.67%\n",
      "Step 99, Time: 88.42, Result: [0.31932499 0.00045251], Uncertainty Rate: 6.66%\n",
      "Step 100, Time: 94.55, Result: [0.32028944 0.000451  ], Uncertainty Rate: 6.63%\n",
      "Step 101, Time: 70.95, Result: [0.32017829 0.00044941], Uncertainty Rate: 6.62%\n",
      "Step 102, Time: 90.54, Result: [0.32107602 0.00044783], Uncertainty Rate: 6.59%\n",
      "7Dimensions Total_Time: 6603.17\n"
     ]
    }
   ],
   "execution_count": 10
  },
  {
   "metadata": {
    "ExecuteTime": {
     "end_time": "2025-06-25T22:25:19.762578Z",
     "start_time": "2025-06-25T17:38:37.401196Z"
    }
   },
   "cell_type": "code",
   "source": [
    "ti, unce = LABQ_alter(8)\n",
    "t.append(ti)\n",
    "un.append(unce)"
   ],
   "id": "f904ded74b6fafd9",
   "outputs": [
    {
     "name": "stdout",
     "output_type": "stream",
     "text": [
      "Dimensions: 8 , Sobol: 3\n",
      "Step 1, Time: 471.24, Result: [0.23867469 0.00029466], Uncertainty Rate: 7.19%\n",
      "Step 2, Time: 204.66, Result: [0.23939688 0.00029347], Uncertainty Rate: 7.16%\n",
      "Step 3, Time: 162.92, Result: [0.24017711 0.00029255], Uncertainty Rate: 7.12%\n",
      "Step 4, Time: 178.89, Result: [0.24066808 0.00029144], Uncertainty Rate: 7.09%\n",
      "Step 5, Time: 183.88, Result: [0.24161454 0.00029078], Uncertainty Rate: 7.06%\n",
      "Step 6, Time: 165.14, Result: [0.24217014 0.00028969], Uncertainty Rate: 7.03%\n",
      "Step 7, Time: 108.23, Result: [0.24260504 0.00028888], Uncertainty Rate: 7.01%\n",
      "Step 8, Time: 171.30, Result: [0.24301324 0.00028835], Uncertainty Rate: 6.99%\n",
      "Step 9, Time: 131.41, Result: [0.24353711 0.00028761], Uncertainty Rate: 6.96%\n",
      "Step 10, Time: 148.08, Result: [0.24438296 0.00028688], Uncertainty Rate: 6.93%\n",
      "Step 11, Time: 103.99, Result: [0.24475937 0.0002862 ], Uncertainty Rate: 6.91%\n",
      "Step 12, Time: 97.85, Result: [0.24558707 0.00028555], Uncertainty Rate: 6.88%\n",
      "Step 13, Time: 129.27, Result: [0.24642422 0.00028468], Uncertainty Rate: 6.85%\n",
      "Step 14, Time: 128.33, Result: [0.24690454 0.00028359], Uncertainty Rate: 6.82%\n",
      "Step 15, Time: 144.62, Result: [0.24742524 0.00028315], Uncertainty Rate: 6.80%\n",
      "Step 16, Time: 112.74, Result: [0.24821182 0.00028227], Uncertainty Rate: 6.77%\n",
      "Step 17, Time: 140.64, Result: [0.24870808 0.00028169], Uncertainty Rate: 6.75%\n",
      "Step 18, Time: 103.43, Result: [0.24931438 0.00028071], Uncertainty Rate: 6.72%\n",
      "Step 19, Time: 140.75, Result: [0.25028886 0.00028008], Uncertainty Rate: 6.69%\n",
      "Step 20, Time: 137.74, Result: [0.25093501 0.00027973], Uncertainty Rate: 6.67%\n",
      "Step 21, Time: 114.01, Result: [0.25151176 0.00027897], Uncertainty Rate: 6.64%\n",
      "Step 22, Time: 153.55, Result: [0.251987   0.00027794], Uncertainty Rate: 6.62%\n",
      "Step 23, Time: 83.50, Result: [0.25279439 0.00027719], Uncertainty Rate: 6.59%\n",
      "Step 24, Time: 138.61, Result: [0.25354836 0.0002761 ], Uncertainty Rate: 6.55%\n",
      "Step 25, Time: 147.56, Result: [0.25413404 0.00027521], Uncertainty Rate: 6.53%\n",
      "Step 26, Time: 146.35, Result: [0.25468184 0.00027445], Uncertainty Rate: 6.50%\n",
      "Step 27, Time: 110.86, Result: [0.25517003 0.00027372], Uncertainty Rate: 6.48%\n",
      "Step 28, Time: 151.11, Result: [0.25553908 0.0002731 ], Uncertainty Rate: 6.47%\n",
      "Step 29, Time: 106.33, Result: [0.25612774 0.0002723 ], Uncertainty Rate: 6.44%\n",
      "Step 30, Time: 115.07, Result: [0.2566054  0.00027173], Uncertainty Rate: 6.42%\n",
      "Step 31, Time: 147.46, Result: [0.25714427 0.00027074], Uncertainty Rate: 6.40%\n",
      "Step 32, Time: 137.32, Result: [0.2576951  0.00027028], Uncertainty Rate: 6.38%\n",
      "Step 33, Time: 126.25, Result: [0.2578359  0.00026946], Uncertainty Rate: 6.37%\n",
      "Step 34, Time: 133.05, Result: [0.25788182 0.00026877], Uncertainty Rate: 6.36%\n",
      "Step 35, Time: 146.71, Result: [0.25867504 0.00026807], Uncertainty Rate: 6.33%\n",
      "Step 36, Time: 113.37, Result: [0.25953917 0.00026714], Uncertainty Rate: 6.30%\n",
      "Step 37, Time: 113.21, Result: [0.26019763 0.00026659], Uncertainty Rate: 6.28%\n",
      "Step 38, Time: 125.07, Result: [0.26083644 0.00026607], Uncertainty Rate: 6.25%\n",
      "Step 39, Time: 151.17, Result: [0.26151055 0.00026548], Uncertainty Rate: 6.23%\n",
      "Step 40, Time: 140.74, Result: [0.26205157 0.00026439], Uncertainty Rate: 6.20%\n",
      "Step 41, Time: 115.04, Result: [0.26236592 0.00026343], Uncertainty Rate: 6.19%\n",
      "Step 42, Time: 150.21, Result: [2.62874176e-01 2.62851852e-04], Uncertainty Rate: 6.17%\n",
      "Step 43, Time: 132.98, Result: [2.63329582e-01 2.62083081e-04], Uncertainty Rate: 6.15%\n",
      "Step 44, Time: 120.79, Result: [2.63694853e-01 2.61506366e-04], Uncertainty Rate: 6.13%\n",
      "Step 45, Time: 102.10, Result: [2.64315265e-01 2.60825091e-04], Uncertainty Rate: 6.11%\n",
      "Step 46, Time: 91.58, Result: [2.64720426e-01 2.60138370e-04], Uncertainty Rate: 6.09%\n",
      "Step 47, Time: 93.35, Result: [2.65238952e-01 2.59210437e-04], Uncertainty Rate: 6.07%\n",
      "Step 48, Time: 110.11, Result: [2.65605357e-01 2.58339602e-04], Uncertainty Rate: 6.05%\n",
      "Step 49, Time: 130.49, Result: [2.65961302e-01 2.57994102e-04], Uncertainty Rate: 6.04%\n",
      "Step 50, Time: 175.79, Result: [2.66225827e-01 2.57496687e-04], Uncertainty Rate: 6.03%\n",
      "Step 51, Time: 191.43, Result: [2.66935600e-01 2.56288682e-04], Uncertainty Rate: 6.00%\n",
      "Step 52, Time: 161.10, Result: [2.67403692e-01 2.55552524e-04], Uncertainty Rate: 5.98%\n",
      "Step 53, Time: 148.27, Result: [2.67861505e-01 2.54843432e-04], Uncertainty Rate: 5.96%\n",
      "Step 54, Time: 148.53, Result: [2.68493357e-01 2.54039970e-04], Uncertainty Rate: 5.94%\n",
      "Step 55, Time: 156.92, Result: [2.68699509e-01 2.53633061e-04], Uncertainty Rate: 5.93%\n",
      "Step 56, Time: 148.20, Result: [2.69056778e-01 2.53044951e-04], Uncertainty Rate: 5.91%\n",
      "Step 57, Time: 109.89, Result: [2.69469086e-01 2.52605464e-04], Uncertainty Rate: 5.90%\n",
      "Step 58, Time: 123.21, Result: [2.70056576e-01 2.52154717e-04], Uncertainty Rate: 5.88%\n",
      "Step 59, Time: 173.39, Result: [2.70510127e-01 2.51410534e-04], Uncertainty Rate: 5.86%\n",
      "Step 60, Time: 199.27, Result: [2.70847354e-01 2.50799440e-04], Uncertainty Rate: 5.85%\n",
      "Step 61, Time: 162.68, Result: [2.71563854e-01 2.50034049e-04], Uncertainty Rate: 5.82%\n",
      "Step 62, Time: 153.38, Result: [2.71997760e-01 2.49177101e-04], Uncertainty Rate: 5.80%\n",
      "Step 63, Time: 166.16, Result: [2.72321987e-01 2.48700422e-04], Uncertainty Rate: 5.79%\n",
      "Step 64, Time: 162.89, Result: [2.72584321e-01 2.48080500e-04], Uncertainty Rate: 5.78%\n",
      "Step 65, Time: 193.00, Result: [2.73082219e-01 2.47629255e-04], Uncertainty Rate: 5.76%\n",
      "Step 66, Time: 135.83, Result: [2.73447067e-01 2.46913189e-04], Uncertainty Rate: 5.75%\n",
      "Step 67, Time: 122.59, Result: [2.73952685e-01 2.46392439e-04], Uncertainty Rate: 5.73%\n",
      "Step 68, Time: 150.35, Result: [2.74358326e-01 2.45869287e-04], Uncertainty Rate: 5.72%\n",
      "Step 69, Time: 257.97, Result: [2.74838144e-01 2.45213529e-04], Uncertainty Rate: 5.70%\n",
      "Step 70, Time: 184.58, Result: [2.75159838e-01 2.44453936e-04], Uncertainty Rate: 5.68%\n",
      "Step 71, Time: 148.94, Result: [2.75496949e-01 2.44078173e-04], Uncertainty Rate: 5.67%\n",
      "Step 72, Time: 171.28, Result: [2.75714709e-01 2.43244980e-04], Uncertainty Rate: 5.66%\n",
      "Step 73, Time: 178.76, Result: [2.76281124e-01 2.42843517e-04], Uncertainty Rate: 5.64%\n",
      "Step 74, Time: 212.99, Result: [2.76572219e-01 2.42112603e-04], Uncertainty Rate: 5.63%\n",
      "Step 75, Time: 168.78, Result: [2.76831351e-01 2.41340077e-04], Uncertainty Rate: 5.61%\n",
      "Step 76, Time: 174.61, Result: [2.77447620e-01 2.40701407e-04], Uncertainty Rate: 5.59%\n",
      "Step 77, Time: 205.47, Result: [2.77937236e-01 2.40056790e-04], Uncertainty Rate: 5.57%\n",
      "Step 78, Time: 353.43, Result: [2.78163380e-01 2.39444364e-04], Uncertainty Rate: 5.56%\n",
      "Step 79, Time: 602.19, Result: [2.78593175e-01 2.38586752e-04], Uncertainty Rate: 5.54%\n",
      "Step 80, Time: 776.83, Result: [2.79260096e-01 2.37880961e-04], Uncertainty Rate: 5.52%\n",
      "Step 81, Time: 174.38, Result: [2.79717161e-01 2.37298960e-04], Uncertainty Rate: 5.51%\n",
      "Step 82, Time: 179.06, Result: [2.80424030e-01 2.36743375e-04], Uncertainty Rate: 5.49%\n",
      "Step 83, Time: 183.33, Result: [2.80711050e-01 2.35870313e-04], Uncertainty Rate: 5.47%\n",
      "Step 84, Time: 179.63, Result: [2.81053275e-01 2.35355402e-04], Uncertainty Rate: 5.46%\n",
      "Step 85, Time: 151.20, Result: [2.81499566e-01 2.34781039e-04], Uncertainty Rate: 5.44%\n",
      "Step 86, Time: 164.94, Result: [2.81598197e-01 2.33732964e-04], Uncertainty Rate: 5.43%\n",
      "Step 87, Time: 192.30, Result: [2.81697253e-01 2.33329405e-04], Uncertainty Rate: 5.42%\n",
      "Step 88, Time: 181.90, Result: [2.82202133e-01 2.32907602e-04], Uncertainty Rate: 5.41%\n",
      "Step 89, Time: 132.33, Result: [2.82710308e-01 2.32008285e-04], Uncertainty Rate: 5.39%\n",
      "Step 90, Time: 165.35, Result: [2.83244507e-01 2.31427776e-04], Uncertainty Rate: 5.37%\n",
      "Step 91, Time: 140.32, Result: [2.83569975e-01 2.30942795e-04], Uncertainty Rate: 5.36%\n",
      "Step 92, Time: 182.35, Result: [2.83697161e-01 2.30333561e-04], Uncertainty Rate: 5.35%\n",
      "Step 93, Time: 173.57, Result: [2.84108244e-01 2.29908647e-04], Uncertainty Rate: 5.34%\n",
      "Step 94, Time: 212.51, Result: [2.84285114e-01 2.29329491e-04], Uncertainty Rate: 5.33%\n",
      "Step 95, Time: 218.01, Result: [2.84673580e-01 2.28772481e-04], Uncertainty Rate: 5.31%\n",
      "Step 96, Time: 207.41, Result: [2.85093761e-01 2.28156853e-04], Uncertainty Rate: 5.30%\n",
      "Step 97, Time: 196.34, Result: [2.85669679e-01 2.27671540e-04], Uncertainty Rate: 5.28%\n",
      "Step 98, Time: 166.38, Result: [2.86170112e-01 2.27314230e-04], Uncertainty Rate: 5.27%\n",
      "Step 99, Time: 188.14, Result: [2.86707252e-01 2.26957667e-04], Uncertainty Rate: 5.25%\n",
      "Step 100, Time: 190.36, Result: [2.86930711e-01 2.26079078e-04], Uncertainty Rate: 5.24%\n",
      "Step 101, Time: 172.12, Result: [2.87407510e-01 2.25529463e-04], Uncertainty Rate: 5.23%\n",
      "Step 102, Time: 217.45, Result: [2.87952710e-01 2.24984311e-04], Uncertainty Rate: 5.21%\n",
      "8Dimensions Total_Time: 16984.84\n"
     ]
    }
   ],
   "execution_count": 11
  },
  {
   "metadata": {
    "ExecuteTime": {
     "end_time": "2025-06-25T23:58:22.839355Z",
     "start_time": "2025-06-25T23:58:22.650288Z"
    }
   },
   "cell_type": "code",
   "source": [
    "dimension = 8\n",
    "avg_time = []\n",
    "for i in range(dimension - 1):\n",
    "    plt.plot(range(len(un[i])), un[i], label=f\"{i+2}D\")\n",
    "    avg_time.append(np.mean(t[i]))\n",
    "plt.title(\"Uncertainty Rate vs Steps\")\n",
    "plt.legend()\n",
    "plt.show()\n",
    "\n",
    "\n",
    "for i in range(dimension - 1):\n",
    "    x = [2**(i+2) + p for p in range(len(un[i]))]\n",
    "    plt.plot(x, un[i], label=f\"{i+2}D\")\n",
    "plt.title(\"Uncertainty Rate vs Points\")\n",
    "plt.legend()\n",
    "plt.show()\n",
    "\n",
    "plt.plot(range(2, dimension + 1),avg_time)\n",
    "plt.title(\"Average Time\")\n",
    "plt.show()\n"
   ],
   "id": "f63befe419da722a",
   "outputs": [
    {
     "data": {
      "text/plain": [
       "<Figure size 640x480 with 1 Axes>"
      ],
      "image/png": "[encoded data removed]"
     },
     "metadata": {},
     "output_type": "display_data"
    },
    {
     "data": {
      "text/plain": [
       "<Figure size 640x480 with 1 Axes>"
      ],
      "image/png": "[encoded data removed]"
     },
     "metadata": {},
     "output_type": "display_data"
    },
    {
     "data": {
      "text/plain": [
       "<Figure size 640x480 with 1 Axes>"
      ],
      "image/png": "[encoded data removed]"
     },
     "metadata": {},
     "output_type": "display_data"
    }
   ],
   "execution_count": 15
  },
  {
   "metadata": {
    "ExecuteTime": {
     "end_time": "2025-06-25T22:25:19.909424Z",
     "start_time": "2025-06-25T22:25:19.907731Z"
    }
   },
   "cell_type": "code",
   "source": "",
   "id": "78fabee92f523923",
   "outputs": [],
   "execution_count": null
  }
 ],
 "metadata": {
  "kernelspec": {
   "display_name": "Python 3",
   "language": "python",
   "name": "python3"
  },
  "language_info": {
   "codemirror_mode": {
    "name": "ipython",
    "version": 2
   },
   "file_extension": ".py",
   "mimetype": "text/x-python",
   "name": "python",
   "nbconvert_exporter": "python",
   "pygments_lexer": "ipython2",
   "version": "2.7.6"
  }
 },
 "nbformat": 4,
 "nbformat_minor": 5
}
